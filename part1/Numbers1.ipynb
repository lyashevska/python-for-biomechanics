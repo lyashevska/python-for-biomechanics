{
 "cells": [
  {
   "cell_type": "markdown",
   "id": "1b17cfb9",
   "metadata": {},
   "source": [
    "BASIC ARITHMETIC"
   ]
  },
  {
   "cell_type": "code",
   "execution_count": 2,
   "id": "b3604bd6",
   "metadata": {},
   "outputs": [
    {
     "data": {
      "text/plain": [
       "10"
      ]
     },
     "execution_count": 2,
     "metadata": {},
     "output_type": "execute_result"
    }
   ],
   "source": [
    "#Addition\n",
    "4+6"
   ]
  },
  {
   "cell_type": "code",
   "execution_count": 3,
   "id": "eebf7d79",
   "metadata": {},
   "outputs": [
    {
     "data": {
      "text/plain": [
       "6"
      ]
     },
     "execution_count": 3,
     "metadata": {},
     "output_type": "execute_result"
    }
   ],
   "source": [
    "#Subtraction\n",
    "10-4"
   ]
  },
  {
   "cell_type": "code",
   "execution_count": 4,
   "id": "cdfb9a5d",
   "metadata": {},
   "outputs": [
    {
     "data": {
      "text/plain": [
       "12"
      ]
     },
     "execution_count": 4,
     "metadata": {},
     "output_type": "execute_result"
    }
   ],
   "source": [
    "#Multiplication\n",
    "3*4"
   ]
  },
  {
   "cell_type": "code",
   "execution_count": 5,
   "id": "910674f1",
   "metadata": {},
   "outputs": [
    {
     "data": {
      "text/plain": [
       "1.5"
      ]
     },
     "execution_count": 5,
     "metadata": {},
     "output_type": "execute_result"
    }
   ],
   "source": [
    "#Divison\n",
    "3/2"
   ]
  },
  {
   "cell_type": "code",
   "execution_count": 6,
   "id": "9464dde9",
   "metadata": {},
   "outputs": [
    {
     "data": {
      "text/plain": [
       "1"
      ]
     },
     "execution_count": 6,
     "metadata": {},
     "output_type": "execute_result"
    }
   ],
   "source": [
    "#Floor Division #The // operator (two forward slashes) truncates the decimal without rounding, and returns an integer result.\n",
    "3//2"
   ]
  },
  {
   "cell_type": "code",
   "execution_count": 7,
   "id": "31f48f8f",
   "metadata": {},
   "outputs": [
    {
     "data": {
      "text/plain": [
       "3"
      ]
     },
     "execution_count": 7,
     "metadata": {},
     "output_type": "execute_result"
    }
   ],
   "source": [
    "#Modulo #The % operator returns the remainder after division.\n",
    "7%4"
   ]
  },
  {
   "cell_type": "code",
   "execution_count": 8,
   "id": "c00d2777",
   "metadata": {},
   "outputs": [
    {
     "data": {
      "text/plain": [
       "8"
      ]
     },
     "execution_count": 8,
     "metadata": {},
     "output_type": "execute_result"
    }
   ],
   "source": [
    "#Power\n",
    "2**3"
   ]
  },
  {
   "cell_type": "code",
   "execution_count": 9,
   "id": "9198af40",
   "metadata": {},
   "outputs": [
    {
     "data": {
      "text/plain": [
       "105"
      ]
     },
     "execution_count": 9,
     "metadata": {},
     "output_type": "execute_result"
    }
   ],
   "source": [
    "# Order of Operations followed in Python (General BODMAS rule)\n",
    "2 + 10 * 10 + 3"
   ]
  },
  {
   "cell_type": "code",
   "execution_count": 10,
   "id": "f64542ee",
   "metadata": {},
   "outputs": [
    {
     "data": {
      "text/plain": [
       "156"
      ]
     },
     "execution_count": 10,
     "metadata": {},
     "output_type": "execute_result"
    }
   ],
   "source": [
    "# Can use parentheses to specify orders\n",
    "(2+10) * (10+3)"
   ]
  },
  {
   "cell_type": "markdown",
   "id": "e0e00166",
   "metadata": {},
   "source": [
    "VARIABLE ASSIGNMENT"
   ]
  },
  {
   "cell_type": "code",
   "execution_count": 11,
   "id": "98c5fd2a",
   "metadata": {},
   "outputs": [],
   "source": [
    "# Let's create variable called \"n\" and assign it the number 10\n",
    "n = 10"
   ]
  },
  {
   "cell_type": "code",
   "execution_count": 12,
   "id": "864ce7e7",
   "metadata": {},
   "outputs": [
    {
     "data": {
      "text/plain": [
       "20"
      ]
     },
     "execution_count": 12,
     "metadata": {},
     "output_type": "execute_result"
    }
   ],
   "source": [
    "#Adding the variables\n",
    "n+n"
   ]
  },
  {
   "cell_type": "code",
   "execution_count": 13,
   "id": "7ae820a2",
   "metadata": {},
   "outputs": [],
   "source": [
    "#Reassignment Check of python allows \n",
    "n=12"
   ]
  },
  {
   "cell_type": "code",
   "execution_count": 14,
   "id": "abf31474",
   "metadata": {},
   "outputs": [
    {
     "data": {
      "text/plain": [
       "12"
      ]
     },
     "execution_count": 14,
     "metadata": {},
     "output_type": "execute_result"
    }
   ],
   "source": [
    "#Check\n",
    "n"
   ]
  },
  {
   "cell_type": "code",
   "execution_count": 15,
   "id": "20c095a7",
   "metadata": {},
   "outputs": [],
   "source": [
    "#We can also use same variables for reassigment\n",
    "n=n+n"
   ]
  },
  {
   "cell_type": "code",
   "execution_count": 16,
   "id": "6602b506",
   "metadata": {},
   "outputs": [
    {
     "data": {
      "text/plain": [
       "24"
      ]
     },
     "execution_count": 16,
     "metadata": {},
     "output_type": "execute_result"
    }
   ],
   "source": [
    "#Check\n",
    "n"
   ]
  },
  {
   "cell_type": "code",
   "execution_count": 17,
   "id": "750b7cb4",
   "metadata": {},
   "outputs": [],
   "source": [
    "# Use variable names to keep better track of what's going on in your code!\n",
    "my_income = 100\n",
    "\n",
    "tax_rate = 0.1\n",
    "\n",
    "my_taxes = my_income*tax_rate"
   ]
  },
  {
   "cell_type": "code",
   "execution_count": 18,
   "id": "a757e997",
   "metadata": {},
   "outputs": [
    {
     "data": {
      "text/plain": [
       "10.0"
      ]
     },
     "execution_count": 18,
     "metadata": {},
     "output_type": "execute_result"
    }
   ],
   "source": [
    "#Show my tax\n",
    "my_taxes"
   ]
  },
  {
   "cell_type": "markdown",
   "id": "862fdb0e",
   "metadata": {},
   "source": [
    "HANDS-ON QUESTION\n",
    "\n",
    "Extending the code, write code the in-hand salary I am getting after tax deduction.\n"
   ]
  },
  {
   "cell_type": "markdown",
   "id": "d9246bca",
   "metadata": {},
   "source": [
    "Dynamic Typing"
   ]
  },
  {
   "cell_type": "code",
   "execution_count": 1,
   "id": "a197fbd8",
   "metadata": {},
   "outputs": [],
   "source": [
    "r=10"
   ]
  },
  {
   "cell_type": "code",
   "execution_count": 2,
   "id": "222ccd20",
   "metadata": {},
   "outputs": [
    {
     "data": {
      "text/plain": [
       "10"
      ]
     },
     "execution_count": 2,
     "metadata": {},
     "output_type": "execute_result"
    }
   ],
   "source": [
    "r"
   ]
  },
  {
   "cell_type": "code",
   "execution_count": 3,
   "id": "840f99fc",
   "metadata": {},
   "outputs": [],
   "source": [
    "r=10.0"
   ]
  },
  {
   "cell_type": "markdown",
   "id": "1805aa37",
   "metadata": {},
   "source": [
    "Determining variable type with type()"
   ]
  },
  {
   "cell_type": "code",
   "execution_count": 4,
   "id": "7e0fbc99",
   "metadata": {},
   "outputs": [
    {
     "data": {
      "text/plain": [
       "10.0"
      ]
     },
     "execution_count": 4,
     "metadata": {},
     "output_type": "execute_result"
    }
   ],
   "source": [
    "r"
   ]
  },
  {
   "cell_type": "code",
   "execution_count": 5,
   "id": "cb2c791b",
   "metadata": {},
   "outputs": [
    {
     "data": {
      "text/plain": [
       "float"
      ]
     },
     "execution_count": 5,
     "metadata": {},
     "output_type": "execute_result"
    }
   ],
   "source": [
    "type(r)"
   ]
  },
  {
   "cell_type": "code",
   "execution_count": 6,
   "id": "1babba44",
   "metadata": {},
   "outputs": [],
   "source": [
    "int=3"
   ]
  },
  {
   "cell_type": "code",
   "execution_count": 7,
   "id": "15c2fc48",
   "metadata": {},
   "outputs": [
    {
     "data": {
      "text/plain": [
       "3"
      ]
     },
     "execution_count": 7,
     "metadata": {},
     "output_type": "execute_result"
    }
   ],
   "source": [
    "int"
   ]
  },
  {
   "cell_type": "code",
   "execution_count": 2,
   "id": "42cf3215",
   "metadata": {},
   "outputs": [],
   "source": [
    "a=5"
   ]
  },
  {
   "cell_type": "code",
   "execution_count": 3,
   "id": "603fe42f",
   "metadata": {},
   "outputs": [],
   "source": [
    "a=a+10"
   ]
  },
  {
   "cell_type": "code",
   "execution_count": 4,
   "id": "30f45f69",
   "metadata": {},
   "outputs": [
    {
     "data": {
      "text/plain": [
       "15"
      ]
     },
     "execution_count": 4,
     "metadata": {},
     "output_type": "execute_result"
    }
   ],
   "source": [
    "a"
   ]
  },
  {
   "cell_type": "code",
   "execution_count": 5,
   "id": "c62fe472",
   "metadata": {},
   "outputs": [],
   "source": [
    "a+=6 #Shortcut"
   ]
  },
  {
   "cell_type": "code",
   "execution_count": 6,
   "id": "41561b08",
   "metadata": {},
   "outputs": [
    {
     "data": {
      "text/plain": [
       "21"
      ]
     },
     "execution_count": 6,
     "metadata": {},
     "output_type": "execute_result"
    }
   ],
   "source": [
    "a"
   ]
  },
  {
   "cell_type": "code",
   "execution_count": null,
   "id": "77cc15ca",
   "metadata": {},
   "outputs": [],
   "source": []
  }
 ],
 "metadata": {
  "kernelspec": {
   "display_name": "Python 3 (ipykernel)",
   "language": "python",
   "name": "python3"
  },
  "language_info": {
   "codemirror_mode": {
    "name": "ipython",
    "version": 3
   },
   "file_extension": ".py",
   "mimetype": "text/x-python",
   "name": "python",
   "nbconvert_exporter": "python",
   "pygments_lexer": "ipython3",
   "version": "3.9.7"
  }
 },
 "nbformat": 4,
 "nbformat_minor": 5
}
