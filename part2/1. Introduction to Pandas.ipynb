{
 "cells": [
  {
   "cell_type": "markdown",
   "id": "f8a9d9d3",
   "metadata": {},
   "source": [
    "<hr style=\"margin-bottom: 20px;\">\n",
    "\n",
    "<img src=\"https://user-images.githubusercontent.com/7065401/75165824-badf4680-5701-11ea-9c5b-5475b0a33abf.png\"\n",
    "    style=\"width:300px; float: right; margin: 0 40px 40px 40px;\"></img>\n",
    "\n",
    "# Data Analysis using Python - Pandas"
   ]
  },
  {
   "cell_type": "markdown",
   "id": "d7bd313b",
   "metadata": {},
   "source": [
    "- Pandas is a Python library used for working with data sets.\n",
    "\n",
    "- It has functions for analyzing, cleaning, exploring, and manipulating data.\n",
    "\n",
    "- The name has a reference to both \"Panel Data\", and \"Python Data Analysis\" and was created by Wes McKinney in 2008.\n",
    "\n",
    "- Pandas allows to analyze data and make conclusions based on statistical theories.\n",
    "\n",
    "- Pandas allows to clean messy data sets, and make them readable and relevant."
   ]
  },
  {
   "cell_type": "markdown",
   "id": "ccf479a5",
   "metadata": {},
   "source": [
    "## Learning Objectives\n",
    "\n",
    "1. To get introduced into Pandas library and various functionalities provided \n",
    "2. To be learn to read in data, access columns, group and filter\n",
    "3. To be able to perform basic statistics\n"
   ]
  },
  {
   "cell_type": "markdown",
   "id": "3326ec35",
   "metadata": {},
   "source": [
    "## Class Outcomes\n",
    "\n",
    "1. Students have basic knowledge of Pandas library\n",
    "2. Studens are able to read in data, access columns, group, filter and sort data\n",
    "3. Students are able to perform basic statistics"
   ]
  },
  {
   "cell_type": "markdown",
   "id": "e5eb9479",
   "metadata": {},
   "source": [
    "## Installing libraries\n"
   ]
  },
  {
   "cell_type": "code",
   "execution_count": 3,
   "id": "4e3290d7",
   "metadata": {},
   "outputs": [],
   "source": [
    "# pip install pandas"
   ]
  },
  {
   "cell_type": "markdown",
   "id": "4c841e48",
   "metadata": {},
   "source": [
    "## Loading libraries"
   ]
  },
  {
   "cell_type": "code",
   "execution_count": 5,
   "id": "e502578e",
   "metadata": {},
   "outputs": [
    {
     "data": {
      "text/plain": [
       "'1.3.5'"
      ]
     },
     "execution_count": 5,
     "metadata": {},
     "output_type": "execute_result"
    }
   ],
   "source": [
    "import pandas as pd\n",
    "import numpy as np\n",
    "pd.__version__"
   ]
  },
  {
   "cell_type": "markdown",
   "id": "6c9f7ef0",
   "metadata": {},
   "source": [
    "Pandas is usually imported under the __pd__ alias. We create an alias with the __as__ keyword while importing. The version string is stored under __version__ attribute."
   ]
  },
  {
   "cell_type": "markdown",
   "id": "9238ad08",
   "metadata": {},
   "source": [
    "## Pandas series"
   ]
  },
  {
   "cell_type": "markdown",
   "id": "92a60b97",
   "metadata": {},
   "source": [
    "Series is a one-dimensional array holding data of any type, like a column in a table."
   ]
  },
  {
   "cell_type": "code",
   "execution_count": 10,
   "id": "298fdac6",
   "metadata": {},
   "outputs": [
    {
     "data": {
      "text/plain": [
       "0    3\n",
       "1    4\n",
       "2    2\n",
       "dtype: int64"
      ]
     },
     "execution_count": 10,
     "metadata": {},
     "output_type": "execute_result"
    }
   ],
   "source": [
    "# create a list\n",
    "a = [3,4,2]\n",
    "# convert it to Series\n",
    "var1 = pd.Series([3,4,2])\n",
    "# check data type - dtype int64\n",
    "var1\n"
   ]
  },
  {
   "cell_type": "code",
   "execution_count": 14,
   "id": "812393b1",
   "metadata": {},
   "outputs": [
    {
     "data": {
      "text/plain": [
       "pandas.core.series.Series"
      ]
     },
     "execution_count": 14,
     "metadata": {},
     "output_type": "execute_result"
    }
   ],
   "source": [
    "b = [3.1,3.3,4.2]\n",
    "var2 = pd.Series(b)\n",
    "type(var2)"
   ]
  },
  {
   "cell_type": "code",
   "execution_count": 23,
   "id": "eedf660b",
   "metadata": {},
   "outputs": [
    {
     "data": {
      "text/plain": [
       "3.1"
      ]
     },
     "execution_count": 23,
     "metadata": {},
     "output_type": "execute_result"
    }
   ],
   "source": [
    "# accessing a specific element\n",
    "# remember that in Python indices start from 0, in R from 1! \n",
    "# access first element\n",
    "var2[0]"
   ]
  },
  {
   "cell_type": "code",
   "execution_count": 22,
   "id": "121230b2",
   "metadata": {},
   "outputs": [
    {
     "data": {
      "text/plain": [
       "a    1\n",
       "b    2\n",
       "c    3\n",
       "dtype: int64"
      ]
     },
     "execution_count": 22,
     "metadata": {},
     "output_type": "execute_result"
    }
   ],
   "source": [
    "# adding indices (row names)\n",
    "a = [1,2,3]\n",
    "idx = [\"a\", \"b\", \"c\"]\n",
    "var3 = pd.Series(a, idx)\n",
    "var3"
   ]
  },
  {
   "cell_type": "code",
   "execution_count": 26,
   "id": "b27a47d7",
   "metadata": {},
   "outputs": [
    {
     "data": {
      "text/plain": [
       "1"
      ]
     },
     "execution_count": 26,
     "metadata": {},
     "output_type": "execute_result"
    }
   ],
   "source": [
    "## Accessing a specific element\n",
    "var3[\"a\"]"
   ]
  },
  {
   "cell_type": "code",
   "execution_count": 40,
   "id": "532a583e",
   "metadata": {},
   "outputs": [
    {
     "data": {
      "text/plain": [
       "Monday       10\n",
       "Tuesday      11\n",
       "Wednesday     9\n",
       "dtype: int64"
      ]
     },
     "execution_count": 40,
     "metadata": {},
     "output_type": "execute_result"
    }
   ],
   "source": [
    "# dictionaries - key: value pairs\n",
    "temp = {\"Monday\": 10, \"Tuesday\": 11, \"Wednesday\": 9}\n",
    "\n",
    "# the keys of the dictionary become the labels\n",
    "var4 = pd.Series(temp)\n",
    "var4"
   ]
  },
  {
   "cell_type": "code",
   "execution_count": 41,
   "id": "f76dfcae",
   "metadata": {},
   "outputs": [
    {
     "data": {
      "text/plain": [
       "10"
      ]
     },
     "execution_count": 41,
     "metadata": {},
     "output_type": "execute_result"
    }
   ],
   "source": [
    "temp[\"Monday\"]"
   ]
  },
  {
   "cell_type": "code",
   "execution_count": 42,
   "id": "f803a4ab",
   "metadata": {},
   "outputs": [
    {
     "data": {
      "text/plain": [
       "Index(['Monday', 'Tuesday', 'Wednesday'], dtype='object')"
      ]
     },
     "execution_count": 42,
     "metadata": {},
     "output_type": "execute_result"
    }
   ],
   "source": [
    "type(temp)\n",
    "var4.index"
   ]
  },
  {
   "cell_type": "code",
   "execution_count": 28,
   "id": "b273c5cb",
   "metadata": {},
   "outputs": [],
   "source": [
    "# help(pd.Series)"
   ]
  },
  {
   "cell_type": "markdown",
   "id": "c9b537be",
   "metadata": {},
   "source": [
    "## Pandas Data Frame"
   ]
  },
  {
   "cell_type": "markdown",
   "id": "14d56f9d",
   "metadata": {},
   "source": [
    "A Pandas DataFrame is a 2 dimensional data structure, like a 2 dimensional array, or a table with rows and columns."
   ]
  },
  {
   "cell_type": "code",
   "execution_count": 32,
   "id": "5b67a9e5",
   "metadata": {},
   "outputs": [
    {
     "data": {
      "text/plain": [
       "{'calories': [420, 380, 390], 'duration': [50, 40, 45]}"
      ]
     },
     "execution_count": 32,
     "metadata": {},
     "output_type": "execute_result"
    }
   ],
   "source": [
    "# dictionary\n",
    "dat = {\n",
    "  \"calories\": [420, 380, 390],\n",
    "  \"duration\": [50, 40, 45]\n",
    "}\n",
    "dat"
   ]
  },
  {
   "cell_type": "code",
   "execution_count": 33,
   "id": "70406ed6",
   "metadata": {},
   "outputs": [
    {
     "data": {
      "text/html": [
       "<div>\n",
       "<style scoped>\n",
       "    .dataframe tbody tr th:only-of-type {\n",
       "        vertical-align: middle;\n",
       "    }\n",
       "\n",
       "    .dataframe tbody tr th {\n",
       "        vertical-align: top;\n",
       "    }\n",
       "\n",
       "    .dataframe thead th {\n",
       "        text-align: right;\n",
       "    }\n",
       "</style>\n",
       "<table border=\"1\" class=\"dataframe\">\n",
       "  <thead>\n",
       "    <tr style=\"text-align: right;\">\n",
       "      <th></th>\n",
       "      <th>calories</th>\n",
       "      <th>duration</th>\n",
       "    </tr>\n",
       "  </thead>\n",
       "  <tbody>\n",
       "    <tr>\n",
       "      <th>0</th>\n",
       "      <td>420</td>\n",
       "      <td>50</td>\n",
       "    </tr>\n",
       "    <tr>\n",
       "      <th>1</th>\n",
       "      <td>380</td>\n",
       "      <td>40</td>\n",
       "    </tr>\n",
       "    <tr>\n",
       "      <th>2</th>\n",
       "      <td>390</td>\n",
       "      <td>45</td>\n",
       "    </tr>\n",
       "  </tbody>\n",
       "</table>\n",
       "</div>"
      ],
      "text/plain": [
       "   calories  duration\n",
       "0       420        50\n",
       "1       380        40\n",
       "2       390        45"
      ]
     },
     "execution_count": 33,
     "metadata": {},
     "output_type": "execute_result"
    }
   ],
   "source": [
    "df = pd.DataFrame(dat)\n",
    "df"
   ]
  },
  {
   "cell_type": "code",
   "execution_count": null,
   "id": "2d978133",
   "metadata": {},
   "outputs": [],
   "source": [
    "# in R\n",
    "# df <- data.frame(dat)"
   ]
  },
  {
   "cell_type": "markdown",
   "id": "ebbc3a1f",
   "metadata": {},
   "source": [
    "Pandas use the __loc__ attribute to return one or more specified row(s)\n",
    "\n"
   ]
  },
  {
   "cell_type": "code",
   "execution_count": 35,
   "id": "466f6caf",
   "metadata": {},
   "outputs": [
    {
     "data": {
      "text/plain": [
       "calories    420\n",
       "duration     50\n",
       "Name: 0, dtype: int64"
      ]
     },
     "execution_count": 35,
     "metadata": {},
     "output_type": "execute_result"
    }
   ],
   "source": [
    "df.loc[0]"
   ]
  },
  {
   "cell_type": "code",
   "execution_count": 36,
   "id": "2ac46d8d",
   "metadata": {},
   "outputs": [
    {
     "data": {
      "text/html": [
       "<div>\n",
       "<style scoped>\n",
       "    .dataframe tbody tr th:only-of-type {\n",
       "        vertical-align: middle;\n",
       "    }\n",
       "\n",
       "    .dataframe tbody tr th {\n",
       "        vertical-align: top;\n",
       "    }\n",
       "\n",
       "    .dataframe thead th {\n",
       "        text-align: right;\n",
       "    }\n",
       "</style>\n",
       "<table border=\"1\" class=\"dataframe\">\n",
       "  <thead>\n",
       "    <tr style=\"text-align: right;\">\n",
       "      <th></th>\n",
       "      <th>calories</th>\n",
       "      <th>duration</th>\n",
       "    </tr>\n",
       "  </thead>\n",
       "  <tbody>\n",
       "    <tr>\n",
       "      <th>day1</th>\n",
       "      <td>420</td>\n",
       "      <td>50</td>\n",
       "    </tr>\n",
       "    <tr>\n",
       "      <th>day2</th>\n",
       "      <td>380</td>\n",
       "      <td>40</td>\n",
       "    </tr>\n",
       "    <tr>\n",
       "      <th>day3</th>\n",
       "      <td>390</td>\n",
       "      <td>45</td>\n",
       "    </tr>\n",
       "  </tbody>\n",
       "</table>\n",
       "</div>"
      ],
      "text/plain": [
       "      calories  duration\n",
       "day1       420        50\n",
       "day2       380        40\n",
       "day3       390        45"
      ]
     },
     "execution_count": 36,
     "metadata": {},
     "output_type": "execute_result"
    }
   ],
   "source": [
    "# TASK: Add row names\n",
    "idx = [\"day1\", \"day2\", \"day3\"]\n",
    "df = pd.DataFrame(dat, \n",
    "                  index = idx)\n",
    "df"
   ]
  },
  {
   "cell_type": "code",
   "execution_count": 37,
   "id": "1a3071c6",
   "metadata": {},
   "outputs": [
    {
     "data": {
      "text/plain": [
       "Index(['day1', 'day2', 'day3'], dtype='object')"
      ]
     },
     "execution_count": 37,
     "metadata": {},
     "output_type": "execute_result"
    }
   ],
   "source": [
    "# to access index\n",
    "df.index"
   ]
  },
  {
   "cell_type": "markdown",
   "id": "365e0df8",
   "metadata": {},
   "source": [
    "## Reading in data"
   ]
  },
  {
   "cell_type": "code",
   "execution_count": 44,
   "id": "6f65ec6c",
   "metadata": {},
   "outputs": [],
   "source": [
    "# read in our csv file\n",
    "df = pd.read_csv('data/VO2max.csv')"
   ]
  },
  {
   "cell_type": "code",
   "execution_count": 47,
   "id": "d4e3f330",
   "metadata": {},
   "outputs": [],
   "source": [
    "# help(pd.read_csv)"
   ]
  },
  {
   "cell_type": "code",
   "execution_count": 45,
   "id": "72d88cf8",
   "metadata": {},
   "outputs": [
    {
     "data": {
      "text/html": [
       "<div>\n",
       "<style scoped>\n",
       "    .dataframe tbody tr th:only-of-type {\n",
       "        vertical-align: middle;\n",
       "    }\n",
       "\n",
       "    .dataframe tbody tr th {\n",
       "        vertical-align: top;\n",
       "    }\n",
       "\n",
       "    .dataframe thead th {\n",
       "        text-align: right;\n",
       "    }\n",
       "</style>\n",
       "<table border=\"1\" class=\"dataframe\">\n",
       "  <thead>\n",
       "    <tr style=\"text-align: right;\">\n",
       "      <th></th>\n",
       "      <th>caseno</th>\n",
       "      <th>age</th>\n",
       "      <th>weight</th>\n",
       "      <th>heart_rate</th>\n",
       "      <th>gender</th>\n",
       "      <th>VO2max</th>\n",
       "    </tr>\n",
       "  </thead>\n",
       "  <tbody>\n",
       "    <tr>\n",
       "      <th>0</th>\n",
       "      <td>1</td>\n",
       "      <td>27</td>\n",
       "      <td>70.47</td>\n",
       "      <td>150</td>\n",
       "      <td>1</td>\n",
       "      <td>55.79</td>\n",
       "    </tr>\n",
       "    <tr>\n",
       "      <th>1</th>\n",
       "      <td>2</td>\n",
       "      <td>63</td>\n",
       "      <td>50.34</td>\n",
       "      <td>144</td>\n",
       "      <td>0</td>\n",
       "      <td>35.00</td>\n",
       "    </tr>\n",
       "    <tr>\n",
       "      <th>2</th>\n",
       "      <td>3</td>\n",
       "      <td>36</td>\n",
       "      <td>87.65</td>\n",
       "      <td>162</td>\n",
       "      <td>1</td>\n",
       "      <td>42.93</td>\n",
       "    </tr>\n",
       "    <tr>\n",
       "      <th>3</th>\n",
       "      <td>4</td>\n",
       "      <td>26</td>\n",
       "      <td>89.80</td>\n",
       "      <td>129</td>\n",
       "      <td>0</td>\n",
       "      <td>28.30</td>\n",
       "    </tr>\n",
       "    <tr>\n",
       "      <th>4</th>\n",
       "      <td>5</td>\n",
       "      <td>24</td>\n",
       "      <td>103.02</td>\n",
       "      <td>143</td>\n",
       "      <td>1</td>\n",
       "      <td>40.56</td>\n",
       "    </tr>\n",
       "    <tr>\n",
       "      <th>...</th>\n",
       "      <td>...</td>\n",
       "      <td>...</td>\n",
       "      <td>...</td>\n",
       "      <td>...</td>\n",
       "      <td>...</td>\n",
       "      <td>...</td>\n",
       "    </tr>\n",
       "    <tr>\n",
       "      <th>95</th>\n",
       "      <td>96</td>\n",
       "      <td>32</td>\n",
       "      <td>111.98</td>\n",
       "      <td>135</td>\n",
       "      <td>1</td>\n",
       "      <td>33.73</td>\n",
       "    </tr>\n",
       "    <tr>\n",
       "      <th>96</th>\n",
       "      <td>97</td>\n",
       "      <td>33</td>\n",
       "      <td>88.07</td>\n",
       "      <td>130</td>\n",
       "      <td>1</td>\n",
       "      <td>49.22</td>\n",
       "    </tr>\n",
       "    <tr>\n",
       "      <th>97</th>\n",
       "      <td>98</td>\n",
       "      <td>35</td>\n",
       "      <td>94.07</td>\n",
       "      <td>148</td>\n",
       "      <td>1</td>\n",
       "      <td>41.97</td>\n",
       "    </tr>\n",
       "    <tr>\n",
       "      <th>98</th>\n",
       "      <td>99</td>\n",
       "      <td>48</td>\n",
       "      <td>97.46</td>\n",
       "      <td>116</td>\n",
       "      <td>1</td>\n",
       "      <td>35.20</td>\n",
       "    </tr>\n",
       "    <tr>\n",
       "      <th>99</th>\n",
       "      <td>100</td>\n",
       "      <td>51</td>\n",
       "      <td>93.76</td>\n",
       "      <td>124</td>\n",
       "      <td>1</td>\n",
       "      <td>32.00</td>\n",
       "    </tr>\n",
       "  </tbody>\n",
       "</table>\n",
       "<p>100 rows × 6 columns</p>\n",
       "</div>"
      ],
      "text/plain": [
       "    caseno  age  weight  heart_rate  gender  VO2max\n",
       "0        1   27   70.47         150       1   55.79\n",
       "1        2   63   50.34         144       0   35.00\n",
       "2        3   36   87.65         162       1   42.93\n",
       "3        4   26   89.80         129       0   28.30\n",
       "4        5   24  103.02         143       1   40.56\n",
       "..     ...  ...     ...         ...     ...     ...\n",
       "95      96   32  111.98         135       1   33.73\n",
       "96      97   33   88.07         130       1   49.22\n",
       "97      98   35   94.07         148       1   41.97\n",
       "98      99   48   97.46         116       1   35.20\n",
       "99     100   51   93.76         124       1   32.00\n",
       "\n",
       "[100 rows x 6 columns]"
      ]
     },
     "execution_count": 45,
     "metadata": {},
     "output_type": "execute_result"
    }
   ],
   "source": [
    "df"
   ]
  },
  {
   "cell_type": "code",
   "execution_count": 50,
   "id": "9ecd0632",
   "metadata": {},
   "outputs": [
    {
     "data": {
      "text/html": [
       "<div>\n",
       "<style scoped>\n",
       "    .dataframe tbody tr th:only-of-type {\n",
       "        vertical-align: middle;\n",
       "    }\n",
       "\n",
       "    .dataframe tbody tr th {\n",
       "        vertical-align: top;\n",
       "    }\n",
       "\n",
       "    .dataframe thead th {\n",
       "        text-align: right;\n",
       "    }\n",
       "</style>\n",
       "<table border=\"1\" class=\"dataframe\">\n",
       "  <thead>\n",
       "    <tr style=\"text-align: right;\">\n",
       "      <th></th>\n",
       "      <th>caseno</th>\n",
       "      <th>age</th>\n",
       "      <th>weight</th>\n",
       "      <th>heart_rate</th>\n",
       "      <th>gender</th>\n",
       "      <th>VO2max</th>\n",
       "    </tr>\n",
       "  </thead>\n",
       "  <tbody>\n",
       "    <tr>\n",
       "      <th>0</th>\n",
       "      <td>1</td>\n",
       "      <td>27</td>\n",
       "      <td>70.47</td>\n",
       "      <td>150</td>\n",
       "      <td>1</td>\n",
       "      <td>55.79</td>\n",
       "    </tr>\n",
       "    <tr>\n",
       "      <th>1</th>\n",
       "      <td>2</td>\n",
       "      <td>63</td>\n",
       "      <td>50.34</td>\n",
       "      <td>144</td>\n",
       "      <td>0</td>\n",
       "      <td>35.00</td>\n",
       "    </tr>\n",
       "    <tr>\n",
       "      <th>2</th>\n",
       "      <td>3</td>\n",
       "      <td>36</td>\n",
       "      <td>87.65</td>\n",
       "      <td>162</td>\n",
       "      <td>1</td>\n",
       "      <td>42.93</td>\n",
       "    </tr>\n",
       "    <tr>\n",
       "      <th>3</th>\n",
       "      <td>4</td>\n",
       "      <td>26</td>\n",
       "      <td>89.80</td>\n",
       "      <td>129</td>\n",
       "      <td>0</td>\n",
       "      <td>28.30</td>\n",
       "    </tr>\n",
       "    <tr>\n",
       "      <th>4</th>\n",
       "      <td>5</td>\n",
       "      <td>24</td>\n",
       "      <td>103.02</td>\n",
       "      <td>143</td>\n",
       "      <td>1</td>\n",
       "      <td>40.56</td>\n",
       "    </tr>\n",
       "  </tbody>\n",
       "</table>\n",
       "</div>"
      ],
      "text/plain": [
       "   caseno  age  weight  heart_rate  gender  VO2max\n",
       "0       1   27   70.47         150       1   55.79\n",
       "1       2   63   50.34         144       0   35.00\n",
       "2       3   36   87.65         162       1   42.93\n",
       "3       4   26   89.80         129       0   28.30\n",
       "4       5   24  103.02         143       1   40.56"
      ]
     },
     "execution_count": 50,
     "metadata": {},
     "output_type": "execute_result"
    }
   ],
   "source": [
    "# inspect the first 3 rows\n",
    "df.head()\n",
    "# R code\n",
    "# head(df) "
   ]
  },
  {
   "cell_type": "code",
   "execution_count": 52,
   "id": "f0ebae5f",
   "metadata": {},
   "outputs": [
    {
     "data": {
      "text/html": [
       "<div>\n",
       "<style scoped>\n",
       "    .dataframe tbody tr th:only-of-type {\n",
       "        vertical-align: middle;\n",
       "    }\n",
       "\n",
       "    .dataframe tbody tr th {\n",
       "        vertical-align: top;\n",
       "    }\n",
       "\n",
       "    .dataframe thead th {\n",
       "        text-align: right;\n",
       "    }\n",
       "</style>\n",
       "<table border=\"1\" class=\"dataframe\">\n",
       "  <thead>\n",
       "    <tr style=\"text-align: right;\">\n",
       "      <th></th>\n",
       "      <th>caseno</th>\n",
       "      <th>age</th>\n",
       "      <th>weight</th>\n",
       "      <th>heart_rate</th>\n",
       "      <th>gender</th>\n",
       "      <th>VO2max</th>\n",
       "    </tr>\n",
       "  </thead>\n",
       "  <tbody>\n",
       "    <tr>\n",
       "      <th>98</th>\n",
       "      <td>99</td>\n",
       "      <td>48</td>\n",
       "      <td>97.46</td>\n",
       "      <td>116</td>\n",
       "      <td>1</td>\n",
       "      <td>35.2</td>\n",
       "    </tr>\n",
       "    <tr>\n",
       "      <th>99</th>\n",
       "      <td>100</td>\n",
       "      <td>51</td>\n",
       "      <td>93.76</td>\n",
       "      <td>124</td>\n",
       "      <td>1</td>\n",
       "      <td>32.0</td>\n",
       "    </tr>\n",
       "  </tbody>\n",
       "</table>\n",
       "</div>"
      ],
      "text/plain": [
       "    caseno  age  weight  heart_rate  gender  VO2max\n",
       "98      99   48   97.46         116       1    35.2\n",
       "99     100   51   93.76         124       1    32.0"
      ]
     },
     "execution_count": 52,
     "metadata": {},
     "output_type": "execute_result"
    }
   ],
   "source": [
    "# inspect the last 3 rows \n",
    "df.tail(2)"
   ]
  },
  {
   "cell_type": "code",
   "execution_count": 57,
   "id": "c5533ff5",
   "metadata": {},
   "outputs": [
    {
     "data": {
      "text/plain": [
       "Index(['caseno', 'age', 'weight', 'heart_rate', 'gender', 'VO2max'], dtype='object')"
      ]
     },
     "execution_count": 57,
     "metadata": {},
     "output_type": "execute_result"
    }
   ],
   "source": [
    "# Print the name of all the columns\n",
    "df.columns\n",
    "# df.columns[2]\n",
    "# R \n",
    "# colnames(df)"
   ]
  },
  {
   "cell_type": "code",
   "execution_count": 27,
   "id": "0970a277",
   "metadata": {},
   "outputs": [
    {
     "data": {
      "text/plain": [
       "caseno          int64\n",
       "age             int64\n",
       "weight        float64\n",
       "heart_rate      int64\n",
       "gender          int64\n",
       "VO2max        float64\n",
       "dtype: object"
      ]
     },
     "execution_count": 27,
     "metadata": {},
     "output_type": "execute_result"
    }
   ],
   "source": [
    "# check data type for each column\n",
    "df.dtypes"
   ]
  },
  {
   "cell_type": "markdown",
   "id": "bd43ce57",
   "metadata": {},
   "source": [
    "## Accessing the columns\n",
    "A single column of the data is accessible using Python dot notation"
   ]
  },
  {
   "cell_type": "code",
   "execution_count": 62,
   "id": "a43a583c",
   "metadata": {},
   "outputs": [
    {
     "data": {
      "text/plain": [
       "0      70.47\n",
       "1      50.34\n",
       "2      87.65\n",
       "3      89.80\n",
       "4     103.02\n",
       "       ...  \n",
       "95    111.98\n",
       "96     88.07\n",
       "97     94.07\n",
       "98     97.46\n",
       "99     93.76\n",
       "Name: weight, Length: 100, dtype: float64"
      ]
     },
     "execution_count": 62,
     "metadata": {},
     "output_type": "execute_result"
    }
   ],
   "source": [
    "df.age\n",
    "# df['weight'] \n",
    "# type(df.age)"
   ]
  },
  {
   "cell_type": "markdown",
   "id": "cc66b76e",
   "metadata": {},
   "source": [
    "describe() shows a quick statistic summary of your data"
   ]
  },
  {
   "cell_type": "code",
   "execution_count": 35,
   "id": "1298d8b3",
   "metadata": {},
   "outputs": [
    {
     "data": {
      "text/html": [
       "<div>\n",
       "<style scoped>\n",
       "    .dataframe tbody tr th:only-of-type {\n",
       "        vertical-align: middle;\n",
       "    }\n",
       "\n",
       "    .dataframe tbody tr th {\n",
       "        vertical-align: top;\n",
       "    }\n",
       "\n",
       "    .dataframe thead th {\n",
       "        text-align: right;\n",
       "    }\n",
       "</style>\n",
       "<table border=\"1\" class=\"dataframe\">\n",
       "  <thead>\n",
       "    <tr style=\"text-align: right;\">\n",
       "      <th></th>\n",
       "      <th>caseno</th>\n",
       "      <th>age</th>\n",
       "      <th>weight</th>\n",
       "      <th>heart_rate</th>\n",
       "      <th>gender</th>\n",
       "      <th>VO2max</th>\n",
       "    </tr>\n",
       "  </thead>\n",
       "  <tbody>\n",
       "    <tr>\n",
       "      <th>count</th>\n",
       "      <td>100.000000</td>\n",
       "      <td>100.00000</td>\n",
       "      <td>100.000000</td>\n",
       "      <td>100.000000</td>\n",
       "      <td>100.000000</td>\n",
       "      <td>100.000000</td>\n",
       "    </tr>\n",
       "    <tr>\n",
       "      <th>mean</th>\n",
       "      <td>50.500000</td>\n",
       "      <td>31.10000</td>\n",
       "      <td>79.660300</td>\n",
       "      <td>141.990000</td>\n",
       "      <td>0.630000</td>\n",
       "      <td>43.629800</td>\n",
       "    </tr>\n",
       "    <tr>\n",
       "      <th>std</th>\n",
       "      <td>29.011492</td>\n",
       "      <td>9.14253</td>\n",
       "      <td>15.089842</td>\n",
       "      <td>18.285334</td>\n",
       "      <td>0.485237</td>\n",
       "      <td>8.571306</td>\n",
       "    </tr>\n",
       "    <tr>\n",
       "      <th>min</th>\n",
       "      <td>1.000000</td>\n",
       "      <td>20.00000</td>\n",
       "      <td>50.000000</td>\n",
       "      <td>100.000000</td>\n",
       "      <td>0.000000</td>\n",
       "      <td>27.350000</td>\n",
       "    </tr>\n",
       "    <tr>\n",
       "      <th>25%</th>\n",
       "      <td>25.750000</td>\n",
       "      <td>24.00000</td>\n",
       "      <td>69.732500</td>\n",
       "      <td>129.000000</td>\n",
       "      <td>0.000000</td>\n",
       "      <td>36.595000</td>\n",
       "    </tr>\n",
       "    <tr>\n",
       "      <th>50%</th>\n",
       "      <td>50.500000</td>\n",
       "      <td>29.00000</td>\n",
       "      <td>79.240000</td>\n",
       "      <td>144.000000</td>\n",
       "      <td>1.000000</td>\n",
       "      <td>42.730000</td>\n",
       "    </tr>\n",
       "    <tr>\n",
       "      <th>75%</th>\n",
       "      <td>75.250000</td>\n",
       "      <td>35.25000</td>\n",
       "      <td>89.912500</td>\n",
       "      <td>153.000000</td>\n",
       "      <td>1.000000</td>\n",
       "      <td>49.265000</td>\n",
       "    </tr>\n",
       "    <tr>\n",
       "      <th>max</th>\n",
       "      <td>100.000000</td>\n",
       "      <td>64.00000</td>\n",
       "      <td>115.420000</td>\n",
       "      <td>187.000000</td>\n",
       "      <td>1.000000</td>\n",
       "      <td>62.500000</td>\n",
       "    </tr>\n",
       "  </tbody>\n",
       "</table>\n",
       "</div>"
      ],
      "text/plain": [
       "           caseno        age      weight  heart_rate      gender      VO2max\n",
       "count  100.000000  100.00000  100.000000  100.000000  100.000000  100.000000\n",
       "mean    50.500000   31.10000   79.660300  141.990000    0.630000   43.629800\n",
       "std     29.011492    9.14253   15.089842   18.285334    0.485237    8.571306\n",
       "min      1.000000   20.00000   50.000000  100.000000    0.000000   27.350000\n",
       "25%     25.750000   24.00000   69.732500  129.000000    0.000000   36.595000\n",
       "50%     50.500000   29.00000   79.240000  144.000000    1.000000   42.730000\n",
       "75%     75.250000   35.25000   89.912500  153.000000    1.000000   49.265000\n",
       "max    100.000000   64.00000  115.420000  187.000000    1.000000   62.500000"
      ]
     },
     "execution_count": 35,
     "metadata": {},
     "output_type": "execute_result"
    }
   ],
   "source": [
    "df.describe()\n",
    "# R code\n",
    "# summary(df)"
   ]
  },
  {
   "cell_type": "code",
   "execution_count": 70,
   "id": "e75c337c",
   "metadata": {},
   "outputs": [
    {
     "data": {
      "text/plain": [
       "<matplotlib.axes._subplots.AxesSubplot at 0x7ffab9e69be0>"
      ]
     },
     "execution_count": 70,
     "metadata": {},
     "output_type": "execute_result"
    },
    {
     "data": {
      "image/png": "[encoded data removed]",
      "text/plain": [
       "<Figure size 432x288 with 1 Axes>"
      ]
     },
     "metadata": {
      "needs_background": "light"
     },
     "output_type": "display_data"
    }
   ],
   "source": [
    "# can also be used on a single column\n",
    "df.age.plot()\n",
    "# df.heart_rate.plot()\n"
   ]
  },
  {
   "cell_type": "code",
   "execution_count": null,
   "id": "97ac987b",
   "metadata": {},
   "outputs": [],
   "source": [
    "# TASK access column heart rate"
   ]
  },
  {
   "cell_type": "code",
   "execution_count": 16,
   "id": "b2f6109b",
   "metadata": {},
   "outputs": [
    {
     "data": {
      "text/plain": [
       "2"
      ]
     },
     "execution_count": 16,
     "metadata": {},
     "output_type": "execute_result"
    }
   ],
   "source": [
    "# how many unique values in the column\n",
    "df.gender.nunique()"
   ]
  },
  {
   "cell_type": "code",
   "execution_count": 17,
   "id": "4c5b660a",
   "metadata": {},
   "outputs": [
    {
     "data": {
      "text/plain": [
       "1    63\n",
       "0    37\n",
       "Name: gender, dtype: int64"
      ]
     },
     "execution_count": 17,
     "metadata": {},
     "output_type": "execute_result"
    }
   ],
   "source": [
    "# how many are males/females\n",
    "df.gender.value_counts()"
   ]
  },
  {
   "cell_type": "markdown",
   "id": "dd6cb411",
   "metadata": {},
   "source": [
    "## Filtering and Sorting"
   ]
  },
  {
   "cell_type": "code",
   "execution_count": 72,
   "id": "a7308cf0",
   "metadata": {},
   "outputs": [
    {
     "data": {
      "text/html": [
       "<div>\n",
       "<style scoped>\n",
       "    .dataframe tbody tr th:only-of-type {\n",
       "        vertical-align: middle;\n",
       "    }\n",
       "\n",
       "    .dataframe tbody tr th {\n",
       "        vertical-align: top;\n",
       "    }\n",
       "\n",
       "    .dataframe thead th {\n",
       "        text-align: right;\n",
       "    }\n",
       "</style>\n",
       "<table border=\"1\" class=\"dataframe\">\n",
       "  <thead>\n",
       "    <tr style=\"text-align: right;\">\n",
       "      <th></th>\n",
       "      <th>caseno</th>\n",
       "      <th>age</th>\n",
       "      <th>weight</th>\n",
       "      <th>heart_rate</th>\n",
       "      <th>gender</th>\n",
       "      <th>VO2max</th>\n",
       "    </tr>\n",
       "  </thead>\n",
       "  <tbody>\n",
       "    <tr>\n",
       "      <th>57</th>\n",
       "      <td>58</td>\n",
       "      <td>34</td>\n",
       "      <td>50.00</td>\n",
       "      <td>183</td>\n",
       "      <td>0</td>\n",
       "      <td>42.00</td>\n",
       "    </tr>\n",
       "    <tr>\n",
       "      <th>1</th>\n",
       "      <td>2</td>\n",
       "      <td>63</td>\n",
       "      <td>50.34</td>\n",
       "      <td>144</td>\n",
       "      <td>0</td>\n",
       "      <td>35.00</td>\n",
       "    </tr>\n",
       "    <tr>\n",
       "      <th>48</th>\n",
       "      <td>49</td>\n",
       "      <td>30</td>\n",
       "      <td>51.96</td>\n",
       "      <td>134</td>\n",
       "      <td>0</td>\n",
       "      <td>50.05</td>\n",
       "    </tr>\n",
       "    <tr>\n",
       "      <th>89</th>\n",
       "      <td>90</td>\n",
       "      <td>33</td>\n",
       "      <td>53.00</td>\n",
       "      <td>153</td>\n",
       "      <td>0</td>\n",
       "      <td>42.00</td>\n",
       "    </tr>\n",
       "    <tr>\n",
       "      <th>24</th>\n",
       "      <td>25</td>\n",
       "      <td>26</td>\n",
       "      <td>53.43</td>\n",
       "      <td>158</td>\n",
       "      <td>1</td>\n",
       "      <td>44.27</td>\n",
       "    </tr>\n",
       "    <tr>\n",
       "      <th>...</th>\n",
       "      <td>...</td>\n",
       "      <td>...</td>\n",
       "      <td>...</td>\n",
       "      <td>...</td>\n",
       "      <td>...</td>\n",
       "      <td>...</td>\n",
       "    </tr>\n",
       "    <tr>\n",
       "      <th>91</th>\n",
       "      <td>92</td>\n",
       "      <td>40</td>\n",
       "      <td>103.53</td>\n",
       "      <td>155</td>\n",
       "      <td>1</td>\n",
       "      <td>45.23</td>\n",
       "    </tr>\n",
       "    <tr>\n",
       "      <th>14</th>\n",
       "      <td>15</td>\n",
       "      <td>23</td>\n",
       "      <td>111.80</td>\n",
       "      <td>145</td>\n",
       "      <td>1</td>\n",
       "      <td>31.94</td>\n",
       "    </tr>\n",
       "    <tr>\n",
       "      <th>95</th>\n",
       "      <td>96</td>\n",
       "      <td>32</td>\n",
       "      <td>111.98</td>\n",
       "      <td>135</td>\n",
       "      <td>1</td>\n",
       "      <td>33.73</td>\n",
       "    </tr>\n",
       "    <tr>\n",
       "      <th>59</th>\n",
       "      <td>60</td>\n",
       "      <td>31</td>\n",
       "      <td>112.59</td>\n",
       "      <td>116</td>\n",
       "      <td>1</td>\n",
       "      <td>37.34</td>\n",
       "    </tr>\n",
       "    <tr>\n",
       "      <th>47</th>\n",
       "      <td>48</td>\n",
       "      <td>28</td>\n",
       "      <td>115.42</td>\n",
       "      <td>134</td>\n",
       "      <td>1</td>\n",
       "      <td>38.12</td>\n",
       "    </tr>\n",
       "  </tbody>\n",
       "</table>\n",
       "<p>100 rows × 6 columns</p>\n",
       "</div>"
      ],
      "text/plain": [
       "    caseno  age  weight  heart_rate  gender  VO2max\n",
       "57      58   34   50.00         183       0   42.00\n",
       "1        2   63   50.34         144       0   35.00\n",
       "48      49   30   51.96         134       0   50.05\n",
       "89      90   33   53.00         153       0   42.00\n",
       "24      25   26   53.43         158       1   44.27\n",
       "..     ...  ...     ...         ...     ...     ...\n",
       "91      92   40  103.53         155       1   45.23\n",
       "14      15   23  111.80         145       1   31.94\n",
       "95      96   32  111.98         135       1   33.73\n",
       "59      60   31  112.59         116       1   37.34\n",
       "47      48   28  115.42         134       1   38.12\n",
       "\n",
       "[100 rows x 6 columns]"
      ]
     },
     "execution_count": 72,
     "metadata": {},
     "output_type": "execute_result"
    }
   ],
   "source": [
    "df.sort_values(by=\"weight\", ascending=True)"
   ]
  },
  {
   "cell_type": "code",
   "execution_count": 25,
   "id": "0613b4f0",
   "metadata": {},
   "outputs": [],
   "source": [
    "# TASK sort data by VO2max"
   ]
  },
  {
   "cell_type": "code",
   "execution_count": 35,
   "id": "3a98a1b4",
   "metadata": {},
   "outputs": [
    {
     "data": {
      "text/html": [
       "<div>\n",
       "<style scoped>\n",
       "    .dataframe tbody tr th:only-of-type {\n",
       "        vertical-align: middle;\n",
       "    }\n",
       "\n",
       "    .dataframe tbody tr th {\n",
       "        vertical-align: top;\n",
       "    }\n",
       "\n",
       "    .dataframe thead th {\n",
       "        text-align: right;\n",
       "    }\n",
       "</style>\n",
       "<table border=\"1\" class=\"dataframe\">\n",
       "  <thead>\n",
       "    <tr style=\"text-align: right;\">\n",
       "      <th></th>\n",
       "      <th>caseno</th>\n",
       "      <th>age</th>\n",
       "      <th>weight</th>\n",
       "      <th>heart_rate</th>\n",
       "      <th>gender</th>\n",
       "      <th>VO2max</th>\n",
       "    </tr>\n",
       "  </thead>\n",
       "  <tbody>\n",
       "    <tr>\n",
       "      <th>67</th>\n",
       "      <td>68</td>\n",
       "      <td>20</td>\n",
       "      <td>55.00</td>\n",
       "      <td>141</td>\n",
       "      <td>0</td>\n",
       "      <td>60.00</td>\n",
       "    </tr>\n",
       "    <tr>\n",
       "      <th>40</th>\n",
       "      <td>41</td>\n",
       "      <td>21</td>\n",
       "      <td>58.94</td>\n",
       "      <td>154</td>\n",
       "      <td>1</td>\n",
       "      <td>41.82</td>\n",
       "    </tr>\n",
       "    <tr>\n",
       "      <th>56</th>\n",
       "      <td>57</td>\n",
       "      <td>21</td>\n",
       "      <td>71.03</td>\n",
       "      <td>122</td>\n",
       "      <td>1</td>\n",
       "      <td>52.30</td>\n",
       "    </tr>\n",
       "    <tr>\n",
       "      <th>36</th>\n",
       "      <td>37</td>\n",
       "      <td>21</td>\n",
       "      <td>78.45</td>\n",
       "      <td>111</td>\n",
       "      <td>0</td>\n",
       "      <td>38.70</td>\n",
       "    </tr>\n",
       "    <tr>\n",
       "      <th>63</th>\n",
       "      <td>64</td>\n",
       "      <td>21</td>\n",
       "      <td>94.68</td>\n",
       "      <td>131</td>\n",
       "      <td>1</td>\n",
       "      <td>44.94</td>\n",
       "    </tr>\n",
       "    <tr>\n",
       "      <th>...</th>\n",
       "      <td>...</td>\n",
       "      <td>...</td>\n",
       "      <td>...</td>\n",
       "      <td>...</td>\n",
       "      <td>...</td>\n",
       "      <td>...</td>\n",
       "    </tr>\n",
       "    <tr>\n",
       "      <th>72</th>\n",
       "      <td>73</td>\n",
       "      <td>52</td>\n",
       "      <td>88.83</td>\n",
       "      <td>109</td>\n",
       "      <td>1</td>\n",
       "      <td>32.00</td>\n",
       "    </tr>\n",
       "    <tr>\n",
       "      <th>75</th>\n",
       "      <td>76</td>\n",
       "      <td>53</td>\n",
       "      <td>78.67</td>\n",
       "      <td>144</td>\n",
       "      <td>0</td>\n",
       "      <td>31.99</td>\n",
       "    </tr>\n",
       "    <tr>\n",
       "      <th>86</th>\n",
       "      <td>87</td>\n",
       "      <td>53</td>\n",
       "      <td>87.28</td>\n",
       "      <td>129</td>\n",
       "      <td>1</td>\n",
       "      <td>49.87</td>\n",
       "    </tr>\n",
       "    <tr>\n",
       "      <th>1</th>\n",
       "      <td>2</td>\n",
       "      <td>63</td>\n",
       "      <td>50.34</td>\n",
       "      <td>144</td>\n",
       "      <td>0</td>\n",
       "      <td>35.00</td>\n",
       "    </tr>\n",
       "    <tr>\n",
       "      <th>60</th>\n",
       "      <td>61</td>\n",
       "      <td>64</td>\n",
       "      <td>73.38</td>\n",
       "      <td>117</td>\n",
       "      <td>0</td>\n",
       "      <td>40.58</td>\n",
       "    </tr>\n",
       "  </tbody>\n",
       "</table>\n",
       "<p>100 rows × 6 columns</p>\n",
       "</div>"
      ],
      "text/plain": [
       "    caseno  age  weight  heart_rate  gender  VO2max\n",
       "67      68   20   55.00         141       0   60.00\n",
       "40      41   21   58.94         154       1   41.82\n",
       "56      57   21   71.03         122       1   52.30\n",
       "36      37   21   78.45         111       0   38.70\n",
       "63      64   21   94.68         131       1   44.94\n",
       "..     ...  ...     ...         ...     ...     ...\n",
       "72      73   52   88.83         109       1   32.00\n",
       "75      76   53   78.67         144       0   31.99\n",
       "86      87   53   87.28         129       1   49.87\n",
       "1        2   63   50.34         144       0   35.00\n",
       "60      61   64   73.38         117       0   40.58\n",
       "\n",
       "[100 rows x 6 columns]"
      ]
     },
     "execution_count": 35,
     "metadata": {},
     "output_type": "execute_result"
    }
   ],
   "source": [
    "# sorting by multiple fields\n",
    "df.sort_values([\"age\", \"weight\"])"
   ]
  },
  {
   "cell_type": "code",
   "execution_count": 78,
   "id": "6b575c56",
   "metadata": {},
   "outputs": [
    {
     "data": {
      "text/plain": [
       "1     50.34\n",
       "60    73.38\n",
       "72    88.83\n",
       "75    78.67\n",
       "86    87.28\n",
       "99    93.76\n",
       "Name: weight, dtype: float64"
      ]
     },
     "execution_count": 78,
     "metadata": {},
     "output_type": "execute_result"
    }
   ],
   "source": [
    "df[df.age>50].weight\n",
    "# df.age>50"
   ]
  },
  {
   "cell_type": "markdown",
   "id": "b46f81df",
   "metadata": {},
   "source": [
    "## Grouping"
   ]
  },
  {
   "cell_type": "code",
   "execution_count": 82,
   "id": "55523419",
   "metadata": {},
   "outputs": [
    {
     "data": {
      "text/html": [
       "<div>\n",
       "<style scoped>\n",
       "    .dataframe tbody tr th:only-of-type {\n",
       "        vertical-align: middle;\n",
       "    }\n",
       "\n",
       "    .dataframe tbody tr th {\n",
       "        vertical-align: top;\n",
       "    }\n",
       "\n",
       "    .dataframe thead th {\n",
       "        text-align: right;\n",
       "    }\n",
       "</style>\n",
       "<table border=\"1\" class=\"dataframe\">\n",
       "  <thead>\n",
       "    <tr style=\"text-align: right;\">\n",
       "      <th></th>\n",
       "      <th>caseno</th>\n",
       "      <th>age</th>\n",
       "      <th>weight</th>\n",
       "      <th>heart_rate</th>\n",
       "      <th>VO2max</th>\n",
       "    </tr>\n",
       "    <tr>\n",
       "      <th>gender</th>\n",
       "      <th></th>\n",
       "      <th></th>\n",
       "      <th></th>\n",
       "      <th></th>\n",
       "      <th></th>\n",
       "    </tr>\n",
       "  </thead>\n",
       "  <tbody>\n",
       "    <tr>\n",
       "      <th>0</th>\n",
       "      <td>45.270270</td>\n",
       "      <td>31.621622</td>\n",
       "      <td>70.853243</td>\n",
       "      <td>139.432432</td>\n",
       "      <td>38.911351</td>\n",
       "    </tr>\n",
       "    <tr>\n",
       "      <th>1</th>\n",
       "      <td>53.571429</td>\n",
       "      <td>30.793651</td>\n",
       "      <td>84.832698</td>\n",
       "      <td>143.492063</td>\n",
       "      <td>46.400952</td>\n",
       "    </tr>\n",
       "  </tbody>\n",
       "</table>\n",
       "</div>"
      ],
      "text/plain": [
       "           caseno        age     weight  heart_rate     VO2max\n",
       "gender                                                        \n",
       "0       45.270270  31.621622  70.853243  139.432432  38.911351\n",
       "1       53.571429  30.793651  84.832698  143.492063  46.400952"
      ]
     },
     "execution_count": 82,
     "metadata": {},
     "output_type": "execute_result"
    }
   ],
   "source": [
    "df.groupby('gender').mean()"
   ]
  },
  {
   "cell_type": "code",
   "execution_count": 83,
   "id": "e48f35ed",
   "metadata": {},
   "outputs": [
    {
     "data": {
      "text/plain": [
       "gender\n",
       "0    100\n",
       "1    109\n",
       "Name: heart_rate, dtype: int64"
      ]
     },
     "execution_count": 83,
     "metadata": {},
     "output_type": "execute_result"
    }
   ],
   "source": [
    "df.groupby('gender').heart_rate.mean()\n",
    "df.groupby('gender').heart_rate.min()\n"
   ]
  },
  {
   "cell_type": "code",
   "execution_count": 50,
   "id": "23b6d5bd",
   "metadata": {},
   "outputs": [
    {
     "data": {
      "text/html": [
       "<div>\n",
       "<style scoped>\n",
       "    .dataframe tbody tr th:only-of-type {\n",
       "        vertical-align: middle;\n",
       "    }\n",
       "\n",
       "    .dataframe tbody tr th {\n",
       "        vertical-align: top;\n",
       "    }\n",
       "\n",
       "    .dataframe thead th {\n",
       "        text-align: right;\n",
       "    }\n",
       "</style>\n",
       "<table border=\"1\" class=\"dataframe\">\n",
       "  <thead>\n",
       "    <tr style=\"text-align: right;\">\n",
       "      <th></th>\n",
       "      <th>min</th>\n",
       "      <th>mean</th>\n",
       "      <th>max</th>\n",
       "    </tr>\n",
       "    <tr>\n",
       "      <th>gender</th>\n",
       "      <th></th>\n",
       "      <th></th>\n",
       "      <th></th>\n",
       "    </tr>\n",
       "  </thead>\n",
       "  <tbody>\n",
       "    <tr>\n",
       "      <th>0</th>\n",
       "      <td>27.35</td>\n",
       "      <td>38.911351</td>\n",
       "      <td>60.0</td>\n",
       "    </tr>\n",
       "    <tr>\n",
       "      <th>1</th>\n",
       "      <td>31.94</td>\n",
       "      <td>46.400952</td>\n",
       "      <td>62.5</td>\n",
       "    </tr>\n",
       "  </tbody>\n",
       "</table>\n",
       "</div>"
      ],
      "text/plain": [
       "          min       mean   max\n",
       "gender                        \n",
       "0       27.35  38.911351  60.0\n",
       "1       31.94  46.400952  62.5"
      ]
     },
     "execution_count": 50,
     "metadata": {},
     "output_type": "execute_result"
    }
   ],
   "source": [
    "df.groupby('gender').VO2max.agg(['min', 'mean', 'max'])"
   ]
  },
  {
   "cell_type": "code",
   "execution_count": 84,
   "id": "123c62b4",
   "metadata": {},
   "outputs": [
    {
     "data": {
      "text/plain": [
       "<matplotlib.axes._subplots.AxesSubplot at 0x7ffab9d4ca20>"
      ]
     },
     "execution_count": 84,
     "metadata": {},
     "output_type": "execute_result"
    },
    {
     "data": {
      "image/png": "[encoded data removed]",
      "text/plain": [
       "<Figure size 432x288 with 1 Axes>"
      ]
     },
     "metadata": {
      "needs_background": "light"
     },
     "output_type": "display_data"
    }
   ],
   "source": [
    "df.age.plot()"
   ]
  },
  {
   "cell_type": "code",
   "execution_count": null,
   "id": "16594ec6",
   "metadata": {},
   "outputs": [],
   "source": []
  },
  {
   "cell_type": "code",
   "execution_count": null,
   "id": "f1b538b8",
   "metadata": {},
   "outputs": [],
   "source": []
  },
  {
   "cell_type": "code",
   "execution_count": null,
   "id": "1161c1ca",
   "metadata": {},
   "outputs": [],
   "source": []
  },
  {
   "cell_type": "code",
   "execution_count": null,
   "id": "3a690668",
   "metadata": {},
   "outputs": [],
   "source": []
  },
  {
   "cell_type": "markdown",
   "id": "d8ac23ad",
   "metadata": {},
   "source": [
    "## Pandas in 10 minutes"
   ]
  },
  {
   "cell_type": "code",
   "execution_count": 2,
   "id": "e4e9d88d",
   "metadata": {},
   "outputs": [
    {
     "data": {
      "image/jpeg": "[encoded data removed]",
      "text/html": [
       "\n",
       "        <iframe\n",
       "            width=\"400\"\n",
       "            height=\"300\"\n",
       "            src=\"https://www.youtube.com/embed/_T8LGqJtuGc\"\n",
       "            frameborder=\"0\"\n",
       "            allowfullscreen\n",
       "        ></iframe>\n",
       "        "
      ],
      "text/plain": [
       "<IPython.lib.display.YouTubeVideo at 0x7ffac566e390>"
      ]
     },
     "metadata": {},
     "output_type": "display_data"
    }
   ],
   "source": [
    "from IPython.display import YouTubeVideo\n",
    "vid = YouTubeVideo(\"_T8LGqJtuGc\")\n",
    "display(vid)"
   ]
  },
  {
   "cell_type": "code",
   "execution_count": null,
   "id": "f8298f0a",
   "metadata": {},
   "outputs": [],
   "source": []
  },
  {
   "cell_type": "markdown",
   "id": "ea12d3a7",
   "metadata": {},
   "source": [
    "## Resources:\n",
    "\n",
    "- Python for Everybody book: http://do1.dr-chuck.com/pythonlearn/EN_us/pythonlearn.pdf\n",
    "- https://github.com/modenaxe/awesome-biomechanics\n",
    "- https://pandas.pydata.org/\n",
    "- https://pandas.pydata.org/Pandas_Cheat_Sheet.pdf"
   ]
  },
  {
   "cell_type": "code",
   "execution_count": null,
   "id": "16da21bb",
   "metadata": {},
   "outputs": [],
   "source": []
  }
 ],
 "metadata": {
  "kernelspec": {
   "display_name": "Python 3 (ipykernel)",
   "language": "python",
   "name": "python3"
  },
  "language_info": {
   "codemirror_mode": {
    "name": "ipython",
    "version": 3
   },
   "file_extension": ".py",
   "mimetype": "text/x-python",
   "name": "python",
   "nbconvert_exporter": "python",
   "pygments_lexer": "ipython3",
   "version": "3.7.3"
  }
 },
 "nbformat": 4,
 "nbformat_minor": 5
}
