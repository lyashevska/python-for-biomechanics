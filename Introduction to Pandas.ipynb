{
 "cells": [
  {
   "cell_type": "markdown",
   "id": "55e3fff6",
   "metadata": {},
   "source": [
    "<hr style=\"margin-bottom: 20px;\">\n",
    "\n",
    "<img src=\"https://user-images.githubusercontent.com/7065401/75165824-badf4680-5701-11ea-9c5b-5475b0a33abf.png\"\n",
    "    style=\"width:300px; float: right; margin: 0 40px 40px 40px;\"></img>\n",
    "\n",
    "# Data Analysis using Python - Pandas"
   ]
  },
  {
   "cell_type": "markdown",
   "id": "8091a4ab",
   "metadata": {},
   "source": [
    "- Pandas is a Python library used for working with data sets.\n",
    "\n",
    "- It has functions for analyzing, cleaning, exploring, and manipulating data.\n",
    "\n",
    "- The name has a reference to both \"Panel Data\", and \"Python Data Analysis\" and was created by Wes McKinney in 2008.\n",
    "\n",
    "- Pandas allows to analyze data and make conclusions based on statistical theories.\n",
    "\n",
    "- Pandas allows toclean messy data sets, and make them readable and relevant."
   ]
  },
  {
   "cell_type": "markdown",
   "id": "aba8eb0c",
   "metadata": {},
   "source": [
    "## Learning Objectives\n",
    "\n",
    "1. \n"
   ]
  },
  {
   "cell_type": "markdown",
   "id": "e44199c0",
   "metadata": {},
   "source": [
    "## Class Outcomes\n",
    "\n",
    "1. "
   ]
  },
  {
   "cell_type": "markdown",
   "id": "0b2c1333",
   "metadata": {},
   "source": [
    "## Installing libraries\n"
   ]
  },
  {
   "cell_type": "code",
   "execution_count": 4,
   "id": "fd5f3e70",
   "metadata": {},
   "outputs": [
    {
     "name": "stdout",
     "output_type": "stream",
     "text": [
      "Requirement already satisfied: pandas in /home/olga/.local/lib/python3.7/site-packages (1.3.5)\n",
      "Requirement already satisfied: numpy>=1.17.3; platform_machine != \"aarch64\" and platform_machine != \"arm64\" and python_version < \"3.10\" in /home/olga/.local/lib/python3.7/site-packages (from pandas) (1.21.5)\n",
      "Requirement already satisfied: python-dateutil>=2.7.3 in /usr/lib/python3/dist-packages (from pandas) (2.7.3)\n",
      "Requirement already satisfied: pytz>=2017.3 in /usr/lib/python3/dist-packages (from pandas) (2019.1)\n",
      "Note: you may need to restart the kernel to use updated packages.\n"
     ]
    }
   ],
   "source": [
    "pip install pandas"
   ]
  },
  {
   "cell_type": "markdown",
   "id": "c89ceddd",
   "metadata": {},
   "source": [
    "## Loading libraries"
   ]
  },
  {
   "cell_type": "code",
   "execution_count": 2,
   "id": "f28d44c6",
   "metadata": {},
   "outputs": [
    {
     "data": {
      "text/plain": [
       "'1.3.5'"
      ]
     },
     "execution_count": 2,
     "metadata": {},
     "output_type": "execute_result"
    }
   ],
   "source": [
    "import pandas as pd\n",
    "import numpy as np\n",
    "pd.__version__"
   ]
  },
  {
   "cell_type": "markdown",
   "id": "ee73a3ad",
   "metadata": {},
   "source": [
    "Pandas is usually imported under the __pd__ alias. We create an alias with the __as__ keyword while importing. The version string is stored under __version__ attribute."
   ]
  },
  {
   "cell_type": "markdown",
   "id": "4e6ef363",
   "metadata": {},
   "source": [
    "## Pandas series"
   ]
  },
  {
   "cell_type": "markdown",
   "id": "137956cb",
   "metadata": {},
   "source": [
    "Series is a one-dimensional array holding data of any type, like a column in a table."
   ]
  },
  {
   "cell_type": "code",
   "execution_count": 14,
   "id": "82aa59f4",
   "metadata": {},
   "outputs": [
    {
     "data": {
      "text/plain": [
       "0    3\n",
       "1    4\n",
       "2    2\n",
       "dtype: int64"
      ]
     },
     "execution_count": 14,
     "metadata": {},
     "output_type": "execute_result"
    }
   ],
   "source": [
    "# create a list\n",
    "a = [3,4,2]\n",
    "# convert it to Series\n",
    "var1 = pd.Series(a)\n",
    "# check data type - dtype int64\n",
    "var1"
   ]
  },
  {
   "cell_type": "code",
   "execution_count": 15,
   "id": "f60ed82f",
   "metadata": {},
   "outputs": [
    {
     "data": {
      "text/plain": [
       "0    3.1\n",
       "1    3.3\n",
       "2    4.2\n",
       "dtype: float64"
      ]
     },
     "execution_count": 15,
     "metadata": {},
     "output_type": "execute_result"
    }
   ],
   "source": [
    "b = [3.1,3.3, 4.2]\n",
    "var2 = pd.Series(b)\n",
    "var2"
   ]
  },
  {
   "cell_type": "code",
   "execution_count": 36,
   "id": "d2324ef5",
   "metadata": {},
   "outputs": [
    {
     "data": {
      "text/plain": [
       "3.1"
      ]
     },
     "execution_count": 36,
     "metadata": {},
     "output_type": "execute_result"
    }
   ],
   "source": [
    "# accessing a specific element\n",
    "# remember that in Python indices start from 0, in R from 1! \n",
    "# access first element\n",
    "var2[0]"
   ]
  },
  {
   "cell_type": "code",
   "execution_count": 33,
   "id": "b252fe72",
   "metadata": {},
   "outputs": [
    {
     "data": {
      "text/plain": [
       "a    3\n",
       "b    4\n",
       "c    2\n",
       "dtype: int64"
      ]
     },
     "execution_count": 33,
     "metadata": {},
     "output_type": "execute_result"
    }
   ],
   "source": [
    "# adding indices (row names)\n",
    "var3 = pd.Series(a, index = [\"a\", \"b\", \"c\"])\n",
    "var3"
   ]
  },
  {
   "cell_type": "code",
   "execution_count": 37,
   "id": "61849541",
   "metadata": {},
   "outputs": [
    {
     "data": {
      "text/plain": [
       "3"
      ]
     },
     "execution_count": 37,
     "metadata": {},
     "output_type": "execute_result"
    }
   ],
   "source": [
    "## Accessing a specific element\n",
    "var3[\"a\"]"
   ]
  },
  {
   "cell_type": "code",
   "execution_count": 53,
   "id": "7ab4085e",
   "metadata": {},
   "outputs": [
    {
     "data": {
      "text/plain": [
       "Monday       10\n",
       "Tuesday      11\n",
       "Wednesday     9\n",
       "dtype: int64"
      ]
     },
     "execution_count": 53,
     "metadata": {},
     "output_type": "execute_result"
    }
   ],
   "source": [
    "# dictionaries - key: value pairs\n",
    "temp = {\"Monday\": 10, \"Tuesday\": 11, \"Wednesday\": 9}\n",
    "\n",
    "# the keys of the dictionary become the labels\n",
    "var4 = pd.Series(temp)\n",
    "var4"
   ]
  },
  {
   "cell_type": "code",
   "execution_count": 44,
   "id": "882ad601",
   "metadata": {},
   "outputs": [
    {
     "data": {
      "text/plain": [
       "10"
      ]
     },
     "execution_count": 44,
     "metadata": {},
     "output_type": "execute_result"
    }
   ],
   "source": [
    "temp[\"Monday\"]"
   ]
  },
  {
   "cell_type": "code",
   "execution_count": 52,
   "id": "d6412f4a",
   "metadata": {},
   "outputs": [
    {
     "data": {
      "text/plain": [
       "dict"
      ]
     },
     "execution_count": 52,
     "metadata": {},
     "output_type": "execute_result"
    }
   ],
   "source": [
    "type(temp)\n",
    "# type(var4)"
   ]
  },
  {
   "cell_type": "markdown",
   "id": "66ce5081",
   "metadata": {},
   "source": [
    "## Pandas Data Frame"
   ]
  },
  {
   "cell_type": "markdown",
   "id": "e2f39c33",
   "metadata": {},
   "source": [
    "A Pandas DataFrame is a 2 dimensional data structure, like a 2 dimensional array, or a table with rows and columns."
   ]
  },
  {
   "cell_type": "code",
   "execution_count": 56,
   "id": "b4d98611",
   "metadata": {},
   "outputs": [],
   "source": [
    "# dictionary\n",
    "dat = {\n",
    "  \"calories\": [420, 380, 390],\n",
    "  \"duration\": [50, 40, 45]\n",
    "}"
   ]
  },
  {
   "cell_type": "code",
   "execution_count": 63,
   "id": "23e1fc9f",
   "metadata": {},
   "outputs": [
    {
     "data": {
      "text/html": [
       "<div>\n",
       "<style scoped>\n",
       "    .dataframe tbody tr th:only-of-type {\n",
       "        vertical-align: middle;\n",
       "    }\n",
       "\n",
       "    .dataframe tbody tr th {\n",
       "        vertical-align: top;\n",
       "    }\n",
       "\n",
       "    .dataframe thead th {\n",
       "        text-align: right;\n",
       "    }\n",
       "</style>\n",
       "<table border=\"1\" class=\"dataframe\">\n",
       "  <thead>\n",
       "    <tr style=\"text-align: right;\">\n",
       "      <th></th>\n",
       "      <th>calories</th>\n",
       "      <th>duration</th>\n",
       "    </tr>\n",
       "  </thead>\n",
       "  <tbody>\n",
       "    <tr>\n",
       "      <th>0</th>\n",
       "      <td>420</td>\n",
       "      <td>50</td>\n",
       "    </tr>\n",
       "    <tr>\n",
       "      <th>1</th>\n",
       "      <td>380</td>\n",
       "      <td>40</td>\n",
       "    </tr>\n",
       "    <tr>\n",
       "      <th>2</th>\n",
       "      <td>390</td>\n",
       "      <td>45</td>\n",
       "    </tr>\n",
       "  </tbody>\n",
       "</table>\n",
       "</div>"
      ],
      "text/plain": [
       "   calories  duration\n",
       "0       420        50\n",
       "1       380        40\n",
       "2       390        45"
      ]
     },
     "execution_count": 63,
     "metadata": {},
     "output_type": "execute_result"
    }
   ],
   "source": [
    "df = pd.DataFrame(dat)\n",
    "df"
   ]
  },
  {
   "cell_type": "markdown",
   "id": "716c25a4",
   "metadata": {},
   "source": [
    "Pandas use the __loc__ attribute to return one or more specified row(s)\n",
    "\n"
   ]
  },
  {
   "cell_type": "code",
   "execution_count": 67,
   "id": "6f0fdf4a",
   "metadata": {},
   "outputs": [
    {
     "data": {
      "text/plain": [
       "calories    420\n",
       "duration     50\n",
       "Name: 0, dtype: int64"
      ]
     },
     "execution_count": 67,
     "metadata": {},
     "output_type": "execute_result"
    }
   ],
   "source": [
    "df.loc[0]"
   ]
  },
  {
   "cell_type": "code",
   "execution_count": 70,
   "id": "40343f53",
   "metadata": {},
   "outputs": [
    {
     "data": {
      "text/html": [
       "<div>\n",
       "<style scoped>\n",
       "    .dataframe tbody tr th:only-of-type {\n",
       "        vertical-align: middle;\n",
       "    }\n",
       "\n",
       "    .dataframe tbody tr th {\n",
       "        vertical-align: top;\n",
       "    }\n",
       "\n",
       "    .dataframe thead th {\n",
       "        text-align: right;\n",
       "    }\n",
       "</style>\n",
       "<table border=\"1\" class=\"dataframe\">\n",
       "  <thead>\n",
       "    <tr style=\"text-align: right;\">\n",
       "      <th></th>\n",
       "      <th>calories</th>\n",
       "      <th>duration</th>\n",
       "    </tr>\n",
       "  </thead>\n",
       "  <tbody>\n",
       "    <tr>\n",
       "      <th>day1</th>\n",
       "      <td>420</td>\n",
       "      <td>50</td>\n",
       "    </tr>\n",
       "    <tr>\n",
       "      <th>day2</th>\n",
       "      <td>380</td>\n",
       "      <td>40</td>\n",
       "    </tr>\n",
       "    <tr>\n",
       "      <th>day3</th>\n",
       "      <td>390</td>\n",
       "      <td>45</td>\n",
       "    </tr>\n",
       "  </tbody>\n",
       "</table>\n",
       "</div>"
      ],
      "text/plain": [
       "      calories  duration\n",
       "day1       420        50\n",
       "day2       380        40\n",
       "day3       390        45"
      ]
     },
     "execution_count": 70,
     "metadata": {},
     "output_type": "execute_result"
    }
   ],
   "source": [
    "# TASK: Add row names\n",
    "df = pd.DataFrame(dat, \n",
    "                  index = [\"day1\", \"day2\", \"day3\"])\n",
    "df"
   ]
  },
  {
   "cell_type": "code",
   "execution_count": null,
   "id": "1ab06f55",
   "metadata": {},
   "outputs": [],
   "source": []
  },
  {
   "cell_type": "code",
   "execution_count": 71,
   "id": "3a5c8137",
   "metadata": {},
   "outputs": [
    {
     "data": {
      "text/plain": [
       "Index(['day1', 'day2', 'day3'], dtype='object')"
      ]
     },
     "execution_count": 71,
     "metadata": {},
     "output_type": "execute_result"
    }
   ],
   "source": [
    "# to access index\n",
    "df.index"
   ]
  },
  {
   "cell_type": "code",
   "execution_count": null,
   "id": "e41f1888",
   "metadata": {},
   "outputs": [],
   "source": []
  },
  {
   "cell_type": "code",
   "execution_count": null,
   "id": "afdc167f",
   "metadata": {},
   "outputs": [],
   "source": []
  },
  {
   "cell_type": "code",
   "execution_count": null,
   "id": "0166c185",
   "metadata": {},
   "outputs": [],
   "source": []
  },
  {
   "cell_type": "markdown",
   "id": "e6ff1789",
   "metadata": {},
   "source": [
    "To check type of the variable we use __type()__ command."
   ]
  },
  {
   "cell_type": "markdown",
   "id": "025daeb8",
   "metadata": {},
   "source": [
    "## Reading in data"
   ]
  },
  {
   "cell_type": "code",
   "execution_count": 23,
   "id": "b1223669",
   "metadata": {},
   "outputs": [],
   "source": [
    "# read in our csv file\n",
    "df = pd.read_csv('data/VO2max.csv')"
   ]
  },
  {
   "cell_type": "code",
   "execution_count": null,
   "id": "957761ba",
   "metadata": {},
   "outputs": [],
   "source": [
    "# df = pd.read_json('data.json')"
   ]
  },
  {
   "cell_type": "code",
   "execution_count": null,
   "id": "0085aa71",
   "metadata": {},
   "outputs": [],
   "source": []
  },
  {
   "cell_type": "code",
   "execution_count": null,
   "id": "2722060b",
   "metadata": {},
   "outputs": [],
   "source": []
  },
  {
   "cell_type": "code",
   "execution_count": 24,
   "id": "cec50ee1",
   "metadata": {},
   "outputs": [
    {
     "data": {
      "text/html": [
       "<div>\n",
       "<style scoped>\n",
       "    .dataframe tbody tr th:only-of-type {\n",
       "        vertical-align: middle;\n",
       "    }\n",
       "\n",
       "    .dataframe tbody tr th {\n",
       "        vertical-align: top;\n",
       "    }\n",
       "\n",
       "    .dataframe thead th {\n",
       "        text-align: right;\n",
       "    }\n",
       "</style>\n",
       "<table border=\"1\" class=\"dataframe\">\n",
       "  <thead>\n",
       "    <tr style=\"text-align: right;\">\n",
       "      <th></th>\n",
       "      <th>caseno</th>\n",
       "      <th>age</th>\n",
       "      <th>weight</th>\n",
       "      <th>heart_rate</th>\n",
       "      <th>gender</th>\n",
       "      <th>VO2max</th>\n",
       "    </tr>\n",
       "  </thead>\n",
       "  <tbody>\n",
       "    <tr>\n",
       "      <th>0</th>\n",
       "      <td>1</td>\n",
       "      <td>27</td>\n",
       "      <td>70.47</td>\n",
       "      <td>150</td>\n",
       "      <td>1</td>\n",
       "      <td>55.79</td>\n",
       "    </tr>\n",
       "    <tr>\n",
       "      <th>1</th>\n",
       "      <td>2</td>\n",
       "      <td>63</td>\n",
       "      <td>50.34</td>\n",
       "      <td>144</td>\n",
       "      <td>0</td>\n",
       "      <td>35.00</td>\n",
       "    </tr>\n",
       "    <tr>\n",
       "      <th>2</th>\n",
       "      <td>3</td>\n",
       "      <td>36</td>\n",
       "      <td>87.65</td>\n",
       "      <td>162</td>\n",
       "      <td>1</td>\n",
       "      <td>42.93</td>\n",
       "    </tr>\n",
       "  </tbody>\n",
       "</table>\n",
       "</div>"
      ],
      "text/plain": [
       "   caseno  age  weight  heart_rate  gender  VO2max\n",
       "0       1   27   70.47         150       1   55.79\n",
       "1       2   63   50.34         144       0   35.00\n",
       "2       3   36   87.65         162       1   42.93"
      ]
     },
     "execution_count": 24,
     "metadata": {},
     "output_type": "execute_result"
    }
   ],
   "source": [
    "df.head(3)"
   ]
  },
  {
   "cell_type": "code",
   "execution_count": 25,
   "id": "e5489dd7",
   "metadata": {},
   "outputs": [
    {
     "data": {
      "text/html": [
       "<div>\n",
       "<style scoped>\n",
       "    .dataframe tbody tr th:only-of-type {\n",
       "        vertical-align: middle;\n",
       "    }\n",
       "\n",
       "    .dataframe tbody tr th {\n",
       "        vertical-align: top;\n",
       "    }\n",
       "\n",
       "    .dataframe thead th {\n",
       "        text-align: right;\n",
       "    }\n",
       "</style>\n",
       "<table border=\"1\" class=\"dataframe\">\n",
       "  <thead>\n",
       "    <tr style=\"text-align: right;\">\n",
       "      <th></th>\n",
       "      <th>caseno</th>\n",
       "      <th>age</th>\n",
       "      <th>weight</th>\n",
       "      <th>heart_rate</th>\n",
       "      <th>gender</th>\n",
       "      <th>VO2max</th>\n",
       "    </tr>\n",
       "  </thead>\n",
       "  <tbody>\n",
       "    <tr>\n",
       "      <th>95</th>\n",
       "      <td>96</td>\n",
       "      <td>32</td>\n",
       "      <td>111.98</td>\n",
       "      <td>135</td>\n",
       "      <td>1</td>\n",
       "      <td>33.73</td>\n",
       "    </tr>\n",
       "    <tr>\n",
       "      <th>96</th>\n",
       "      <td>97</td>\n",
       "      <td>33</td>\n",
       "      <td>88.07</td>\n",
       "      <td>130</td>\n",
       "      <td>1</td>\n",
       "      <td>49.22</td>\n",
       "    </tr>\n",
       "    <tr>\n",
       "      <th>97</th>\n",
       "      <td>98</td>\n",
       "      <td>35</td>\n",
       "      <td>94.07</td>\n",
       "      <td>148</td>\n",
       "      <td>1</td>\n",
       "      <td>41.97</td>\n",
       "    </tr>\n",
       "    <tr>\n",
       "      <th>98</th>\n",
       "      <td>99</td>\n",
       "      <td>48</td>\n",
       "      <td>97.46</td>\n",
       "      <td>116</td>\n",
       "      <td>1</td>\n",
       "      <td>35.20</td>\n",
       "    </tr>\n",
       "    <tr>\n",
       "      <th>99</th>\n",
       "      <td>100</td>\n",
       "      <td>51</td>\n",
       "      <td>93.76</td>\n",
       "      <td>124</td>\n",
       "      <td>1</td>\n",
       "      <td>32.00</td>\n",
       "    </tr>\n",
       "  </tbody>\n",
       "</table>\n",
       "</div>"
      ],
      "text/plain": [
       "    caseno  age  weight  heart_rate  gender  VO2max\n",
       "95      96   32  111.98         135       1   33.73\n",
       "96      97   33   88.07         130       1   49.22\n",
       "97      98   35   94.07         148       1   41.97\n",
       "98      99   48   97.46         116       1   35.20\n",
       "99     100   51   93.76         124       1   32.00"
      ]
     },
     "execution_count": 25,
     "metadata": {},
     "output_type": "execute_result"
    }
   ],
   "source": [
    "df.tail()\n"
   ]
  },
  {
   "cell_type": "code",
   "execution_count": 26,
   "id": "b9cbfe84",
   "metadata": {},
   "outputs": [
    {
     "data": {
      "text/plain": [
       "Index(['caseno', 'age', 'weight', 'heart_rate', 'gender', 'VO2max'], dtype='object')"
      ]
     },
     "execution_count": 26,
     "metadata": {},
     "output_type": "execute_result"
    }
   ],
   "source": [
    "df.columns"
   ]
  },
  {
   "cell_type": "code",
   "execution_count": 27,
   "id": "acb79b5a",
   "metadata": {},
   "outputs": [
    {
     "data": {
      "text/plain": [
       "caseno          int64\n",
       "age             int64\n",
       "weight        float64\n",
       "heart_rate      int64\n",
       "gender          int64\n",
       "VO2max        float64\n",
       "dtype: object"
      ]
     },
     "execution_count": 27,
     "metadata": {},
     "output_type": "execute_result"
    }
   ],
   "source": [
    "# check data type for each column\n",
    "df.dtypes"
   ]
  },
  {
   "cell_type": "markdown",
   "id": "fa13573f",
   "metadata": {},
   "source": [
    "## Accessing the columns\n",
    "A single column of the data is accessible using Python dot notation"
   ]
  },
  {
   "cell_type": "code",
   "execution_count": 32,
   "id": "d31cf0b6",
   "metadata": {},
   "outputs": [
    {
     "data": {
      "text/plain": [
       "0     27\n",
       "1     63\n",
       "2     36\n",
       "3     26\n",
       "4     24\n",
       "      ..\n",
       "95    32\n",
       "96    33\n",
       "97    35\n",
       "98    48\n",
       "99    51\n",
       "Name: age, Length: 100, dtype: int64"
      ]
     },
     "execution_count": 32,
     "metadata": {},
     "output_type": "execute_result"
    }
   ],
   "source": [
    "df.age"
   ]
  },
  {
   "cell_type": "markdown",
   "id": "b9943d8d",
   "metadata": {},
   "source": [
    "describe() shows a quick statistic summary of your data"
   ]
  },
  {
   "cell_type": "code",
   "execution_count": 35,
   "id": "d1f233f8",
   "metadata": {},
   "outputs": [
    {
     "data": {
      "text/html": [
       "<div>\n",
       "<style scoped>\n",
       "    .dataframe tbody tr th:only-of-type {\n",
       "        vertical-align: middle;\n",
       "    }\n",
       "\n",
       "    .dataframe tbody tr th {\n",
       "        vertical-align: top;\n",
       "    }\n",
       "\n",
       "    .dataframe thead th {\n",
       "        text-align: right;\n",
       "    }\n",
       "</style>\n",
       "<table border=\"1\" class=\"dataframe\">\n",
       "  <thead>\n",
       "    <tr style=\"text-align: right;\">\n",
       "      <th></th>\n",
       "      <th>caseno</th>\n",
       "      <th>age</th>\n",
       "      <th>weight</th>\n",
       "      <th>heart_rate</th>\n",
       "      <th>gender</th>\n",
       "      <th>VO2max</th>\n",
       "    </tr>\n",
       "  </thead>\n",
       "  <tbody>\n",
       "    <tr>\n",
       "      <th>count</th>\n",
       "      <td>100.000000</td>\n",
       "      <td>100.00000</td>\n",
       "      <td>100.000000</td>\n",
       "      <td>100.000000</td>\n",
       "      <td>100.000000</td>\n",
       "      <td>100.000000</td>\n",
       "    </tr>\n",
       "    <tr>\n",
       "      <th>mean</th>\n",
       "      <td>50.500000</td>\n",
       "      <td>31.10000</td>\n",
       "      <td>79.660300</td>\n",
       "      <td>141.990000</td>\n",
       "      <td>0.630000</td>\n",
       "      <td>43.629800</td>\n",
       "    </tr>\n",
       "    <tr>\n",
       "      <th>std</th>\n",
       "      <td>29.011492</td>\n",
       "      <td>9.14253</td>\n",
       "      <td>15.089842</td>\n",
       "      <td>18.285334</td>\n",
       "      <td>0.485237</td>\n",
       "      <td>8.571306</td>\n",
       "    </tr>\n",
       "    <tr>\n",
       "      <th>min</th>\n",
       "      <td>1.000000</td>\n",
       "      <td>20.00000</td>\n",
       "      <td>50.000000</td>\n",
       "      <td>100.000000</td>\n",
       "      <td>0.000000</td>\n",
       "      <td>27.350000</td>\n",
       "    </tr>\n",
       "    <tr>\n",
       "      <th>25%</th>\n",
       "      <td>25.750000</td>\n",
       "      <td>24.00000</td>\n",
       "      <td>69.732500</td>\n",
       "      <td>129.000000</td>\n",
       "      <td>0.000000</td>\n",
       "      <td>36.595000</td>\n",
       "    </tr>\n",
       "    <tr>\n",
       "      <th>50%</th>\n",
       "      <td>50.500000</td>\n",
       "      <td>29.00000</td>\n",
       "      <td>79.240000</td>\n",
       "      <td>144.000000</td>\n",
       "      <td>1.000000</td>\n",
       "      <td>42.730000</td>\n",
       "    </tr>\n",
       "    <tr>\n",
       "      <th>75%</th>\n",
       "      <td>75.250000</td>\n",
       "      <td>35.25000</td>\n",
       "      <td>89.912500</td>\n",
       "      <td>153.000000</td>\n",
       "      <td>1.000000</td>\n",
       "      <td>49.265000</td>\n",
       "    </tr>\n",
       "    <tr>\n",
       "      <th>max</th>\n",
       "      <td>100.000000</td>\n",
       "      <td>64.00000</td>\n",
       "      <td>115.420000</td>\n",
       "      <td>187.000000</td>\n",
       "      <td>1.000000</td>\n",
       "      <td>62.500000</td>\n",
       "    </tr>\n",
       "  </tbody>\n",
       "</table>\n",
       "</div>"
      ],
      "text/plain": [
       "           caseno        age      weight  heart_rate      gender      VO2max\n",
       "count  100.000000  100.00000  100.000000  100.000000  100.000000  100.000000\n",
       "mean    50.500000   31.10000   79.660300  141.990000    0.630000   43.629800\n",
       "std     29.011492    9.14253   15.089842   18.285334    0.485237    8.571306\n",
       "min      1.000000   20.00000   50.000000  100.000000    0.000000   27.350000\n",
       "25%     25.750000   24.00000   69.732500  129.000000    0.000000   36.595000\n",
       "50%     50.500000   29.00000   79.240000  144.000000    1.000000   42.730000\n",
       "75%     75.250000   35.25000   89.912500  153.000000    1.000000   49.265000\n",
       "max    100.000000   64.00000  115.420000  187.000000    1.000000   62.500000"
      ]
     },
     "execution_count": 35,
     "metadata": {},
     "output_type": "execute_result"
    }
   ],
   "source": [
    "df.describe()"
   ]
  },
  {
   "cell_type": "code",
   "execution_count": null,
   "id": "a6ba7a76",
   "metadata": {},
   "outputs": [],
   "source": [
    "# TASK access column heart rate"
   ]
  },
  {
   "cell_type": "code",
   "execution_count": 33,
   "id": "000bed7b",
   "metadata": {},
   "outputs": [
    {
     "data": {
      "text/html": [
       "<div>\n",
       "<style scoped>\n",
       "    .dataframe tbody tr th:only-of-type {\n",
       "        vertical-align: middle;\n",
       "    }\n",
       "\n",
       "    .dataframe tbody tr th {\n",
       "        vertical-align: top;\n",
       "    }\n",
       "\n",
       "    .dataframe thead th {\n",
       "        text-align: right;\n",
       "    }\n",
       "</style>\n",
       "<table border=\"1\" class=\"dataframe\">\n",
       "  <thead>\n",
       "    <tr style=\"text-align: right;\">\n",
       "      <th></th>\n",
       "      <th>caseno</th>\n",
       "      <th>age</th>\n",
       "      <th>weight</th>\n",
       "      <th>heart_rate</th>\n",
       "      <th>gender</th>\n",
       "      <th>VO2max</th>\n",
       "    </tr>\n",
       "  </thead>\n",
       "  <tbody>\n",
       "    <tr>\n",
       "      <th>67</th>\n",
       "      <td>68</td>\n",
       "      <td>20</td>\n",
       "      <td>55.00</td>\n",
       "      <td>141</td>\n",
       "      <td>0</td>\n",
       "      <td>60.00</td>\n",
       "    </tr>\n",
       "    <tr>\n",
       "      <th>29</th>\n",
       "      <td>30</td>\n",
       "      <td>21</td>\n",
       "      <td>95.51</td>\n",
       "      <td>139</td>\n",
       "      <td>1</td>\n",
       "      <td>48.13</td>\n",
       "    </tr>\n",
       "    <tr>\n",
       "      <th>36</th>\n",
       "      <td>37</td>\n",
       "      <td>21</td>\n",
       "      <td>78.45</td>\n",
       "      <td>111</td>\n",
       "      <td>0</td>\n",
       "      <td>38.70</td>\n",
       "    </tr>\n",
       "    <tr>\n",
       "      <th>40</th>\n",
       "      <td>41</td>\n",
       "      <td>21</td>\n",
       "      <td>58.94</td>\n",
       "      <td>154</td>\n",
       "      <td>1</td>\n",
       "      <td>41.82</td>\n",
       "    </tr>\n",
       "    <tr>\n",
       "      <th>63</th>\n",
       "      <td>64</td>\n",
       "      <td>21</td>\n",
       "      <td>94.68</td>\n",
       "      <td>131</td>\n",
       "      <td>1</td>\n",
       "      <td>44.94</td>\n",
       "    </tr>\n",
       "    <tr>\n",
       "      <th>...</th>\n",
       "      <td>...</td>\n",
       "      <td>...</td>\n",
       "      <td>...</td>\n",
       "      <td>...</td>\n",
       "      <td>...</td>\n",
       "      <td>...</td>\n",
       "    </tr>\n",
       "    <tr>\n",
       "      <th>72</th>\n",
       "      <td>73</td>\n",
       "      <td>52</td>\n",
       "      <td>88.83</td>\n",
       "      <td>109</td>\n",
       "      <td>1</td>\n",
       "      <td>32.00</td>\n",
       "    </tr>\n",
       "    <tr>\n",
       "      <th>86</th>\n",
       "      <td>87</td>\n",
       "      <td>53</td>\n",
       "      <td>87.28</td>\n",
       "      <td>129</td>\n",
       "      <td>1</td>\n",
       "      <td>49.87</td>\n",
       "    </tr>\n",
       "    <tr>\n",
       "      <th>75</th>\n",
       "      <td>76</td>\n",
       "      <td>53</td>\n",
       "      <td>78.67</td>\n",
       "      <td>144</td>\n",
       "      <td>0</td>\n",
       "      <td>31.99</td>\n",
       "    </tr>\n",
       "    <tr>\n",
       "      <th>1</th>\n",
       "      <td>2</td>\n",
       "      <td>63</td>\n",
       "      <td>50.34</td>\n",
       "      <td>144</td>\n",
       "      <td>0</td>\n",
       "      <td>35.00</td>\n",
       "    </tr>\n",
       "    <tr>\n",
       "      <th>60</th>\n",
       "      <td>61</td>\n",
       "      <td>64</td>\n",
       "      <td>73.38</td>\n",
       "      <td>117</td>\n",
       "      <td>0</td>\n",
       "      <td>40.58</td>\n",
       "    </tr>\n",
       "  </tbody>\n",
       "</table>\n",
       "<p>100 rows × 6 columns</p>\n",
       "</div>"
      ],
      "text/plain": [
       "    caseno  age  weight  heart_rate  gender  VO2max\n",
       "67      68   20   55.00         141       0   60.00\n",
       "29      30   21   95.51         139       1   48.13\n",
       "36      37   21   78.45         111       0   38.70\n",
       "40      41   21   58.94         154       1   41.82\n",
       "63      64   21   94.68         131       1   44.94\n",
       "..     ...  ...     ...         ...     ...     ...\n",
       "72      73   52   88.83         109       1   32.00\n",
       "86      87   53   87.28         129       1   49.87\n",
       "75      76   53   78.67         144       0   31.99\n",
       "1        2   63   50.34         144       0   35.00\n",
       "60      61   64   73.38         117       0   40.58\n",
       "\n",
       "[100 rows x 6 columns]"
      ]
     },
     "execution_count": 33,
     "metadata": {},
     "output_type": "execute_result"
    }
   ],
   "source": [
    "df.sort_values(by=\"age\")"
   ]
  },
  {
   "cell_type": "code",
   "execution_count": null,
   "id": "037527e8",
   "metadata": {},
   "outputs": [],
   "source": [
    "# TASK sort by heart rate"
   ]
  },
  {
   "cell_type": "code",
   "execution_count": null,
   "id": "6dcde071",
   "metadata": {},
   "outputs": [],
   "source": []
  },
  {
   "cell_type": "code",
   "execution_count": null,
   "id": "5bb40b98",
   "metadata": {},
   "outputs": [],
   "source": []
  },
  {
   "cell_type": "code",
   "execution_count": null,
   "id": "18ed31ae",
   "metadata": {},
   "outputs": [],
   "source": []
  },
  {
   "cell_type": "code",
   "execution_count": null,
   "id": "fcf1c2e3",
   "metadata": {},
   "outputs": [],
   "source": []
  },
  {
   "cell_type": "code",
   "execution_count": null,
   "id": "9dedc4b0",
   "metadata": {},
   "outputs": [],
   "source": []
  },
  {
   "cell_type": "code",
   "execution_count": null,
   "id": "faa25432",
   "metadata": {},
   "outputs": [],
   "source": []
  },
  {
   "cell_type": "code",
   "execution_count": null,
   "id": "e36cda51",
   "metadata": {},
   "outputs": [],
   "source": []
  },
  {
   "cell_type": "markdown",
   "id": "e8571ce8",
   "metadata": {},
   "source": [
    "## Pandas in 10 minutes"
   ]
  },
  {
   "cell_type": "code",
   "execution_count": 7,
   "id": "f1f66fc7",
   "metadata": {},
   "outputs": [
    {
     "data": {
      "image/jpeg": "[encoded data removed]",
      "text/html": [
       "\n",
       "        <iframe\n",
       "            width=\"400\"\n",
       "            height=\"300\"\n",
       "            src=\"https://www.youtube.com/embed/_T8LGqJtuGc\"\n",
       "            frameborder=\"0\"\n",
       "            allowfullscreen\n",
       "        ></iframe>\n",
       "        "
      ],
      "text/plain": [
       "<IPython.lib.display.YouTubeVideo at 0x7f31451d80f0>"
      ]
     },
     "metadata": {},
     "output_type": "display_data"
    }
   ],
   "source": [
    "from IPython.display import YouTubeVideo\n",
    "vid = YouTubeVideo(\"_T8LGqJtuGc\")\n",
    "display(vid)"
   ]
  },
  {
   "cell_type": "code",
   "execution_count": null,
   "id": "ed2a7912",
   "metadata": {},
   "outputs": [],
   "source": []
  },
  {
   "cell_type": "markdown",
   "id": "a32b91b4",
   "metadata": {},
   "source": [
    "## Resources:\n",
    "\n",
    "Python for Everybody book: http://do1.dr-chuck.com/pythonlearn/EN_us/pythonlearn.pdf\n",
    "\n",
    "https://github.com/modenaxe/awesome-biomechanics\n",
    "\n",
    "https://pandas.pydata.org/\n",
    "\n",
    "https://pandas.pydata.org/Pandas_Cheat_Sheet.pdf"
   ]
  },
  {
   "cell_type": "code",
   "execution_count": null,
   "id": "a9156aee",
   "metadata": {},
   "outputs": [],
   "source": []
  }
 ],
 "metadata": {
  "kernelspec": {
   "display_name": "Python 3 (ipykernel)",
   "language": "python",
   "name": "python3"
  },
  "language_info": {
   "codemirror_mode": {
    "name": "ipython",
    "version": 3
   },
   "file_extension": ".py",
   "mimetype": "text/x-python",
   "name": "python",
   "nbconvert_exporter": "python",
   "pygments_lexer": "ipython3",
   "version": "3.7.3"
  }
 },
 "nbformat": 4,
 "nbformat_minor": 5
}
